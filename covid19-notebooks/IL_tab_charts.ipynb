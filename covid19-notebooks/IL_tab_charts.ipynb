{
 "cells": [
  {
   "cell_type": "markdown",
   "metadata": {},
   "source": [
    "# Additional Charts for Illinois Tab\n",
    "\n",
    "### Fan Wang\n",
    "### 03/19/2021\n",
    "\n",
    "This Jupyter notebook shows some examples of charts to be added to the IL dashboard in [Chicagoland COVID-19 Data Commons](https://chicagoland.pandemicresponsecommons.org). Please find the related Jira ticket [here](https://occ-data.atlassian.net/browse/COV-796).\n",
    "## Table of Contents\n",
    "\n",
    "* [Install and Import Required Library](#Install-and-Import-Required-Library)\n",
    "* [Age/Race/Gender Demographics in Illinois ](#Age/Race/Gender-Demographics-in-Illinois)\n",
    "    * [Age Demographics](#Age-Demographics)\n",
    "    * [Race Demographics](#Race-Demographics)\n",
    "    * [Gender Demographics](#Gender-Demographics)\n",
    "* [Total and Daily Administered Vaccine Doses](#Total-and-Daily-Administered-Vaccine-Doses)\n",
    "    * [Daily Reported Administered Vaccine Doses in Illinois](#Daily-Reported-Administered-Vaccine-Doses-in-Illinois)\n",
    "    * [Cumulative Reported Administered Vaccine Doses in Illinois](#Cumulative-Reported-Administered-Vaccine-Doses-in-Illinois)\n",
    "    * [Reported Administered Vaccine Doses by County for Most Recent Date](#Reported-Administered-Vaccine-Doses-by-County-for-Most-Recent-Date)\n",
    "* [Google Mobility Data Visualization in Illinois](#Google-Mobility-Data-Visualization-in-Illinois)\n",
    "* [Statistical Model Forecasts Cumulative COVID-19 Cases](#Statistical-Model-Forecasts-Cumulative-COVID-19-Cases)\n",
    "    * [Using 4-Phase Sine-Logistic Model and Data from Past 180 Days to Obtain Cumulative Cases Forecasts for Future 10 Days](#Using-4-Phase-Sine-Logistic-Model-and-Data-from-Past-180-Days-to-Obtain-Cumulative-Cases-Forecasts-for-Future-10-Days)\n",
    "    * [Using 4-Phase Sine-Logistic Model and Data Since 01/22/2020 to Obtain Cumulative Cases Forecasts for Future 30 Days](#Using-4-Phase-Sine-Logistic-Model-and-Data-Since-01/22/2020-to-Obtain-Cumulative-Cases-Forecasts-for-Future-30-Days)\n",
    "    * [Using 4-Phase Sine-Logistic Model and Data Since 01/23/2020 to Obtain Daily New Cases Forecasts for Future 30 Days](#Using-4-Phase-Sine-Logistic-Model-and-Data-Since-01/23/2020-to-Obtain-Daily-New-Cases-Forecasts-for-Future-30-Days)\n",
    "    * [Using 4-phase Logistic Model and Data from Past 180 Days to Obtain Cumulative Cases Forecasts for Future 10 Days](#Using-4-phase-Logistic-Model-and-Data-from-Past-180-Days-to-Obtain-Cumulative-Cases-Forecasts-for-Future-10-Days)\n",
    "    * [Using 4-phase Logistic Model and Data Since 01/22/2020 to Obtain Cumulative Cases Forecasts for Future 30 Days](#Using-4-phase-Logistic-Model-and-Data-Since-01/22/2020-to-Obtain-Cumulative-Cases-Forecasts-for-Future-30-Days)\n",
    "    * [Using 4-Phase Logistic Model and Data Since 01/23/2020 to Obtain Daily New Cases Forecasts for Future 30 Days](#Using-4-Phase-Logistic-Model-and-Data-Since-01/23/2020-to-Obtain-Daily-New-Cases-Forecasts-for-Future-30-Days)"
   ]
  },
  {
   "cell_type": "markdown",
   "metadata": {},
   "source": [
    "## Install and Import Required Library"
   ]
  },
  {
   "cell_type": "code",
   "execution_count": null,
   "metadata": {
    "scrolled": true
   },
   "outputs": [],
   "source": [
    "import pandas as pd\n",
    "import numpy as np\n",
    "import scipy as sc\n",
    "from scipy import stats # scientific python statistical package\n",
    "from scipy.optimize import curve_fit # optimization for fitting curves\n",
    "import urllib.request, json, os \n",
    "import matplotlib as mpl\n",
    "import matplotlib.pyplot as plt\n",
    "import seaborn as sns\n",
    "from matplotlib.ticker import FuncFormatter\n",
    "import warnings; warnings.filterwarnings(\"ignore\")\n",
    "import itertools\n",
    "from itertools import islice\n",
    "from collections import deque\n",
    "#!pip install --upgrade 'google-cloud-bigquery[bqstorage,pandas]'\n",
    "#!pip install --upgrade google-cloud-bigquery\n",
    "from google.cloud import bigquery\n",
    "%config InlineBackend.figure_format = 'svg'\n",
    "%matplotlib inline"
   ]
  },
  {
   "cell_type": "markdown",
   "metadata": {},
   "source": [
    "## Age/Race/Gender Demographics in Illinois \n",
    "* Data source: [IDPH](https://www.dph.illinois.gov/covid19/covid19-statistics)\n",
    "* API: https://idph.illinois.gov/DPHPublicInformation/api/COVID/GetCountyDemographics"
   ]
  },
  {
   "cell_type": "code",
   "execution_count": 2,
   "metadata": {
    "scrolled": true
   },
   "outputs": [],
   "source": [
    "demographics_url = \"https://idph.illinois.gov/DPHPublicInformation/api/COVID/GetCountyDemographics\"\n",
    "with urllib.request.urlopen(demographics_url) as url:\n",
    "    data = json.loads(url.read().decode())\n",
    "df = pd.json_normalize(data['county_demographics'])\n",
    "age = pd.DataFrame(df.loc[df['County']=='Illinois']['demographics.age'].tolist()[0])"
   ]
  },
  {
   "cell_type": "code",
   "execution_count": 3,
   "metadata": {
    "scrolled": true
   },
   "outputs": [],
   "source": [
    "age_list=[]\n",
    "for i in range(len(age)):\n",
    "    single_age = pd.json_normalize(age['race'][i])\n",
    "    single_age1 = single_age[['description','count']]\n",
    "    single_age2=single_age1.set_index('description').T\n",
    "    age_list.append(single_age2)\n",
    "age_race = pd.concat(age_list)\n",
    "age_race = age_race.reset_index(drop=True)\n",
    "age_groupby_race = pd.concat([age, age_race], axis=1)\n",
    "age_groupby_race = age_groupby_race.rename(columns={\"Left Blank\": \"Unknown\"})"
   ]
  },
  {
   "cell_type": "markdown",
   "metadata": {},
   "source": [
    "### Age Demographics"
   ]
  },
  {
   "cell_type": "code",
   "execution_count": 4,
   "metadata": {
    "scrolled": false
   },
   "outputs": [],
   "source": [
    "fig, ax = plt.subplots(figsize=(9,5), dpi= 80)\n",
    "colors = ['pink', 'mediumseagreen','salmon','mediumturquoise','mediumpurple','gold','dimgray','sandybrown']\n",
    "bottom = np.zeros(len(age_groupby_race))\n",
    "\n",
    "for i, col in enumerate(age_groupby_race.columns[5:]):\n",
    "    ax.bar(age_groupby_race.age_group, age_groupby_race[col], bottom=bottom, label=col, color=colors[i])\n",
    "    bottom += np.array(age_groupby_race[col])\n",
    "\n",
    "ax.set_title('Age Demographics in Illinois', size=14)\n",
    "ax.set_xlabel('Age Group',size=12)\n",
    "ax.set_ylabel('Total Cases',size=11)\n",
    "ax.legend(fontsize=11, title=\"Race\")\n",
    "\n",
    "def thousands(x, pos):\n",
    "    'The two args are the value and tick position'\n",
    "    return '%1.0fK' % (x * 1e-3)\n",
    "\n",
    "formatter = FuncFormatter(thousands)\n",
    "ax.yaxis.set_major_formatter(formatter)\n",
    "fig.savefig('IL_tab_charts_age_demographic.png', dpi=300, bbox_inches='tight')\n",
    "plt.close(fig)"
   ]
  },
  {
   "cell_type": "code",
   "execution_count": 5,
   "metadata": {
    "scrolled": true
   },
   "outputs": [],
   "source": [
    "race = pd.DataFrame(df.loc[df['County']=='Illinois']['demographics.race'].tolist()[0])\n",
    "race['color']=colors\n",
    "race = race.replace('Left Blank', 'Unknown')"
   ]
  },
  {
   "cell_type": "markdown",
   "metadata": {},
   "source": [
    "### Race Demographics"
   ]
  },
  {
   "cell_type": "code",
   "execution_count": 6,
   "metadata": {
    "scrolled": false
   },
   "outputs": [],
   "source": [
    "fig, ax = plt.subplots(figsize=(12, 7), subplot_kw=dict(aspect=\"equal\"), dpi= 80)\n",
    "\n",
    "data = race['count']\n",
    "categories = race['description']\n",
    "explode = [0]*8\n",
    "\n",
    "def func(pct, allvals):\n",
    "    return \"{:.1f}%\".format(pct)\n",
    "\n",
    "wedges, texts, autotexts = ax.pie(data, \n",
    "                                  autopct=lambda pct: func(pct, data),\n",
    "                                  textprops=dict(color=\"w\"), \n",
    "                                  colors=race['color'],\n",
    "                                 startangle=140,\n",
    "                                 explode=explode)\n",
    "\n",
    "# Decoration\n",
    "ax.legend(wedges, categories, title=\"Race\", loc=\"center left\", bbox_to_anchor=(1, 0, 0.5, 1))\n",
    "plt.setp(autotexts, size=10, weight=700)\n",
    "ax.set_title(\"Total Cases by Race\",  size=14)\n",
    "fig.savefig('IL_tab_charts_race_demographic.png', dpi=300, bbox_inches='tight')\n",
    "plt.close(fig)"
   ]
  },
  {
   "cell_type": "markdown",
   "metadata": {},
   "source": [
    "### Gender Demographics"
   ]
  },
  {
   "cell_type": "code",
   "execution_count": 7,
   "metadata": {
    "scrolled": false
   },
   "outputs": [],
   "source": [
    "gender = pd.DataFrame(df.loc[df['County']=='Illinois']['demographics.gender'].tolist()[0])\n",
    "gender = gender.replace('Unknown/Left Blank', 'Unknown')\n",
    "fig, ax = plt.subplots(figsize=(12, 7), subplot_kw=dict(aspect=\"equal\"), dpi= 80)\n",
    "\n",
    "data = gender['count']\n",
    "categories = gender['description']\n",
    "explode = [0]*3\n",
    "\n",
    "def func(pct, allvals):\n",
    "    return \"{:.1f}%\".format(pct)\n",
    "\n",
    "wedges, texts, autotexts = ax.pie(data, \n",
    "                                  autopct=lambda pct: func(pct, data),\n",
    "                                  textprops=dict(color=\"w\"), \n",
    "                                  colors=race['color'],\n",
    "                                 startangle=140,\n",
    "                                 explode=explode)\n",
    "\n",
    "# Decoration\n",
    "ax.legend(wedges, categories, title=\"Gender\", loc=\"center left\", bbox_to_anchor=(1, 0, 0.5, 1))\n",
    "plt.setp(autotexts, size=10, weight=700)\n",
    "ax.set_title(\"Total Cases by Gender\",  size=14)\n",
    "fig.savefig('IL_tab_charts_gender_demographic.png', dpi=300, bbox_inches='tight')\n",
    "plt.close(fig)"
   ]
  },
  {
   "cell_type": "markdown",
   "metadata": {},
   "source": [
    "## Total and Daily Administered Vaccine Doses\n",
    "* Data Source: [IDPH COVID-19 Vaccine Administration Data](https://www.dph.illinois.gov/covid19/vaccinedata?county=Illinois) \n",
    "* API: https://idph.illinois.gov/DPHPublicInformation/api/COVIDExport/GetVaccineAdministration?countyname=&format=csv"
   ]
  },
  {
   "cell_type": "code",
   "execution_count": 8,
   "metadata": {
    "scrolled": true
   },
   "outputs": [],
   "source": [
    "vac = pd.read_csv('https://idph.illinois.gov/DPHPublicInformation/api/COVIDExport/GetVaccineAdministration?countyname=&format=csv', skiprows=1)"
   ]
  },
  {
   "cell_type": "code",
   "execution_count": 9,
   "metadata": {
    "scrolled": true
   },
   "outputs": [],
   "source": [
    "#Convert Report_Date column to datetimes format\n",
    "s = \"-\"\n",
    "datetime_index = pd.DatetimeIndex(vac.Report_Date)\n",
    "vac.set_index(datetime_index, inplace=True)"
   ]
  },
  {
   "cell_type": "code",
   "execution_count": 10,
   "metadata": {
    "scrolled": true
   },
   "outputs": [],
   "source": [
    "# Function to calculate 7 days moving average\n",
    "def seven_moving_average(data):\n",
    "    it = iter(data)\n",
    "    d = deque(islice(it, 7))\n",
    "    divisor = float(7)\n",
    "    s = sum(d)\n",
    "    yield s / divisor\n",
    "    for elem in it:\n",
    "        s += elem - d.popleft()\n",
    "        d.append(elem)\n",
    "        yield s / divisor"
   ]
  },
  {
   "cell_type": "code",
   "execution_count": 11,
   "metadata": {
    "scrolled": true
   },
   "outputs": [],
   "source": [
    "moving_avg = list(seven_moving_average(list(vac['AdministeredCountChange'])))\n",
    "average_table = vac[3:-3].copy()\n",
    "average_table['7-Day Moving Avg'] = moving_avg"
   ]
  },
  {
   "cell_type": "markdown",
   "metadata": {},
   "source": [
    "### Daily Reported Administered Vaccine Doses in Illinois"
   ]
  },
  {
   "cell_type": "code",
   "execution_count": 12,
   "metadata": {
    "scrolled": false
   },
   "outputs": [],
   "source": [
    "fig, ax = plt.subplots(figsize=(9,6), dpi= 100)\n",
    "ax.vlines(x=vac.index, ymin=0, ymax=vac['AdministeredCountChange'], color='mediumturquoise', alpha=0.9, linewidth=1, label='Daily Reported Vaccine Doses')\n",
    "ax.scatter(x=vac.index, y=vac['AdministeredCountChange'], s=20, color='mediumturquoise', alpha=0.9)\n",
    "plt.plot(average_table.index, average_table['7-Day Moving Avg'].values, lw=2, color='sandybrown', label='7-Day Moving Average Vaccine Doses') \n",
    "plt.grid(axis='y', alpha=.3)\n",
    "plt.gca().spines[\"top\"].set_alpha(.3)\n",
    "plt.gca().spines[\"bottom\"].set_alpha(.3)\n",
    "plt.gca().spines[\"right\"].set_alpha(.3)\n",
    "plt.gca().spines[\"left\"].set_alpha(.3)\n",
    "def thousands(x, pos):\n",
    "    'The two args are the value and tick position'\n",
    "    return '%1.0fK' % (x * 1e-3)\n",
    "plt.legend(loc='upper left')\n",
    "formatter = FuncFormatter(thousands)\n",
    "ax.yaxis.set_major_formatter(formatter)\n",
    "ax.set_title('Daily Reported Administered Vaccine Doses', size=14)\n",
    "ax.set_xlabel('Reported Date',size=12)\n",
    "ax.set_ylabel('Administered Vaccine Doses',size=11)\n",
    "fig.savefig('IL_tab_charts_daily_vaccine.png', dpi=300, bbox_inches='tight')\n",
    "plt.close(fig)"
   ]
  },
  {
   "cell_type": "markdown",
   "metadata": {},
   "source": [
    "### Cumulative Reported Administered Vaccine Doses in Illinois "
   ]
  },
  {
   "cell_type": "code",
   "execution_count": 13,
   "metadata": {
    "scrolled": false
   },
   "outputs": [],
   "source": [
    "fig, ax = plt.subplots(figsize=(9,6), dpi= 100)\n",
    "ax.vlines(x=vac.index, ymin=0, ymax=vac['AdministeredCount'], color='mediumturquoise', alpha=0.9, linewidth=1)\n",
    "ax.scatter(x=vac.index, y=vac['AdministeredCount'], s=20, color='mediumturquoise', alpha=0.9)\n",
    "plt.grid(axis='y', alpha=.3)\n",
    "plt.gca().spines[\"top\"].set_alpha(.3)\n",
    "plt.gca().spines[\"bottom\"].set_alpha(.3)\n",
    "plt.gca().spines[\"right\"].set_alpha(.3)\n",
    "plt.gca().spines[\"left\"].set_alpha(.3)\n",
    "def millions(x, pos):\n",
    "    'The two args are the value and tick position'\n",
    "    return '%1.0fM' % (x * 1e-6)\n",
    "formatter = FuncFormatter(millions)\n",
    "ax.yaxis.set_major_formatter(formatter)\n",
    "ax.set_title('Cumulative Reported Administered Vaccine Doses', size=14)\n",
    "ax.set_xlabel('Reported Date',size=12)\n",
    "ax.set_ylabel('Administered Vaccine Doses',size=11)\n",
    "fig.savefig('IL_tab_charts_cumulative_vaccine.png', dpi=300, bbox_inches='tight')\n",
    "plt.close(fig)"
   ]
  },
  {
   "cell_type": "markdown",
   "metadata": {},
   "source": [
    "### Reported Administered Vaccine Doses by County for Most Recent Date"
   ]
  },
  {
   "cell_type": "code",
   "execution_count": 14,
   "metadata": {
    "scrolled": true
   },
   "outputs": [],
   "source": [
    "vac_county_url = \"https://idph.illinois.gov/DPHPublicInformation/api/covidVaccine/getVaccineAdministrationCurrent\"\n",
    "\n",
    "with urllib.request.urlopen(vac_county_url) as url:\n",
    "    data = json.loads(url.read().decode())\n",
    "df = pd.json_normalize(data['VaccineAdministration'])\n",
    "date = pd.json_normalize(data['lastUpdatedDate'])\n",
    "year = str(date.year.values[0])\n",
    "month = str(date.month.values[0])\n",
    "day = str(date.day.values[0])\n",
    "vac_county = pd.DataFrame(df.loc[df['CountyName']!='Illinois'])\n",
    "vac_county.sort_values('CountyName', inplace=True, ascending=False)\n",
    "vac_county.reset_index(inplace=True)\n",
    "\n",
    "fig, ax = plt.subplots(figsize=(10,19), dpi= 100)\n",
    "ax.margins(x=0.08, y=0.01) \n",
    "ax.hlines(y=vac_county.CountyName, xmin=0, xmax=vac_county['AdministeredCount'], color='mediumturquoise', alpha=0.9, linewidth=1)\n",
    "ax.scatter(y=vac_county.CountyName, x=vac_county['AdministeredCount'], s=20, color='mediumturquoise', alpha=0.9)\n",
    "plt.grid(axis='y', alpha=.2)\n",
    "plt.yticks(fontsize=8.5)\n",
    "plt.gca().spines[\"top\"].set_alpha(.3)\n",
    "plt.gca().spines[\"bottom\"].set_alpha(.3)\n",
    "plt.gca().spines[\"right\"].set_alpha(.3)\n",
    "plt.gca().spines[\"left\"].set_alpha(.3)\n",
    "def thousands(x, pos):\n",
    "    'The two args are the value and tick position'\n",
    "    return '%1.0fK' % (x * 1e-3)\n",
    "formatter = FuncFormatter(thousands)\n",
    "ax.xaxis.set_major_formatter(formatter)\n",
    "ax.set_title('Reported Administered Vaccine Doses by County on {}/{}/{}'.format(month, day, year), size=14)\n",
    "ax.set_xlabel('Administered Vaccine Doses on {}/{}/{}'.format(month, day, year),size=12)\n",
    "ax.set_ylabel('County',size=11)\n",
    "for x, y, tex in zip(vac_county.AdministeredCount, vac_county.CountyName, vac_county.AdministeredCount):\n",
    "    t = plt.text(x+9000, y, round(tex, 0), horizontalalignment='left', \n",
    "                 verticalalignment='center', fontdict={'color':'black','size':7})\n",
    "fig.savefig('IL_tab_charts_vaccine_by_county.png', dpi=300, bbox_inches='tight')\n",
    "plt.close(fig)"
   ]
  },
  {
   "cell_type": "markdown",
   "metadata": {},
   "source": [
    "## Google Mobility Data Visualization in Illinois \n",
    "* Data Source: [Google COVID-19 Community Mobility Reports](https://www.google.com/covid19/mobility/index.html?hl=en)\n",
    "* API: Google BigQuery API Client with authentication setup required "
   ]
  },
  {
   "cell_type": "code",
   "execution_count": 15,
   "metadata": {
    "scrolled": true
   },
   "outputs": [],
   "source": [
    "# The Google application credentials should already be set up\n",
    "# (GOOGLE_APPLICATION_CREDENTIALS env var)\n",
    "\n",
    "# Create Client object for query purpose\n",
    "client = bigquery.Client()\n",
    "\n",
    "sql_us=\"\"\"\n",
    "  SELECT\n",
    "  country_region,\n",
    "  sub_region_1,\n",
    "  iso_3166_2_code,\n",
    "  date,\n",
    "  retail_and_recreation_percent_change_from_baseline as recreation,\n",
    "  grocery_and_pharmacy_percent_change_from_baseline as grocery,\n",
    "  parks_percent_change_from_baseline as park,\n",
    "  transit_stations_percent_change_from_baseline as transit,\n",
    "  workplaces_percent_change_from_baseline as workplace,\n",
    "  residential_percent_change_from_baseline as residential  \n",
    "  FROM `bigquery-public-data.covid19_google_mobility.mobility_report`\n",
    "  WHERE \n",
    "    country_region_code = 'US' AND \n",
    "    sub_region_1 is not null AND\n",
    "    iso_3166_2_code is not null\n",
    "  order by sub_region_1, date\n",
    "\"\"\"\n",
    "us_query_job = client.query(sql_us)\n",
    "rows = us_query_job.result()  # Waits for query to finish\n",
    "\n",
    "cols = ['date', 'recreation', 'grocery', 'park', 'transit','workplace','residential']\n",
    "lst = []\n",
    "for row in rows:\n",
    "    if row.iso_3166_2_code == 'US-IL':\n",
    "        lst.append([row.date, \n",
    "                    row.recreation, \n",
    "                    row.grocery,\n",
    "                    row.park,\n",
    "                    row.transit,\n",
    "                    row.workplace,\n",
    "                    row.residential\n",
    "                    ])\n",
    "mobility_df = pd.DataFrame(lst, columns=cols)    "
   ]
  },
  {
   "cell_type": "code",
   "execution_count": 16,
   "metadata": {
    "scrolled": false
   },
   "outputs": [],
   "source": [
    "past_3m = mobility_df[-90:]\n",
    "fig, ax = plt.subplots(figsize=(9,6), dpi= 100) \n",
    "plt.plot(past_3m.date, past_3m['recreation'].values, lw=2, color='sandybrown', label='Recreation') \n",
    "plt.plot(past_3m.date, past_3m['grocery'].values, lw=2, color='mediumturquoise', label='Grocery') \n",
    "plt.plot(past_3m.date, past_3m['park'].values, lw=2, color='royalblue', label='Park') \n",
    "plt.plot(past_3m.date, past_3m['transit'].values, lw=2, color='salmon', label='Transit') \n",
    "plt.plot(past_3m.date, past_3m['workplace'].values, lw=2, color='dimgray', label='Workplace') \n",
    "plt.plot(past_3m.date, past_3m['residential'].values, lw=2, color='mediumpurple', label='Residential') \n",
    "plt.grid(axis='y', alpha=.3)\n",
    "plt.gca().spines[\"top\"].set_alpha(.3)\n",
    "plt.gca().spines[\"bottom\"].set_alpha(.3)\n",
    "plt.gca().spines[\"right\"].set_alpha(.3)\n",
    "plt.gca().spines[\"left\"].set_alpha(.3)\n",
    "plt.legend(loc='upper left', ncol=3)\n",
    "ax.set_title('Mobility Trend in Illinois in the Past 3 Months', size=14)\n",
    "ax.set_xlabel('Date',size=12)\n",
    "ax.set_ylabel('Mobility (%)',size=11)\n",
    "fig.savefig('IL_tab_charts_IL_mobility.png', dpi=300, bbox_inches='tight')\n",
    "plt.close(fig)"
   ]
  },
  {
   "cell_type": "markdown",
   "metadata": {},
   "source": [
    "## Statistical Model Forecasts Cumulative COVID-19 Cases\n",
    "* Data Source: [COVID-19 Data Repository by Johns Hopkins CSSE](https://github.com/CSSEGISandData/COVID-19)\n",
    "* API: https://raw.githubusercontent.com/CSSEGISandData/COVID-19/master/csse_covid_19_data/csse_covid_19_time_series/time_series_covid19_confirmed_US.csv"
   ]
  },
  {
   "cell_type": "code",
   "execution_count": 17,
   "metadata": {
    "scrolled": true
   },
   "outputs": [],
   "source": [
    "def obs_pred_rsquare(obs, pred):\n",
    "    \n",
    "    obs = np.array(obs)\n",
    "    pred = np.array(pred)\n",
    "    \n",
    "    # obs: an array of observations, whether transformed (log, sqrt, etc.) or not.\n",
    "    # pred: an array of predictions, whether transformed (log, sqrt, etc.) or not.\n",
    "\n",
    "    # Determines the prop of variability in a data set accounted for by a model\n",
    "    # In other words, this determines the proportion of variation explained by\n",
    "    # the 1:1 line in an observed-predicted plot.\n",
    "    # Used in the following publications, among others:\n",
    "        # 1. Locey, K. J., & White, E. P. (2013). How species richness and total abundance \n",
    "        #    constrain the distribution of abundance. Ecology letters, 16(9), 1177-1185.\n",
    "        # 2. White, E. P., Thibault, K. M., & Xiao, X. (2012). Characterizing species \n",
    "        #    abundance distributions across taxa and ecosystems using a simple maximum \n",
    "        #    entropy model. Ecology, 93(8), 1772-1778.\n",
    "       \n",
    "    return 1 - sum((obs - pred) ** 2) / sum((obs - np.mean(obs)) ** 2)\n",
    "\n",
    "\n",
    "\n",
    "########## Finding a best fit cumulative Gaussian curve via numerical optimization ######\n",
    "\n",
    "def gaussian1(x, n, s, m):  \n",
    "    \n",
    "    # A function used in combination with scipy.optimize.curve_fit to find the best fit\n",
    "    # cumulative Gaussian curve.\n",
    "    \n",
    "    # The following alternative can be used to find the best fit (non-cumulative) Gaussian curve:\n",
    "        # return n**2 * (1/(s*((2*pi)**0.5))) * np.exp(-0.5 * ((x - m)/s)**2)\n",
    "        \n",
    "    return (n * 0.5 * (1 + sc.special.erf((x - m)/(s*2**0.5))))\n",
    "    \n",
    "def gaussian2(x, n, s, m, s1, m1):\n",
    "    # A function used in combination with scipy.optimize.curve_fit to find the best fit\n",
    "    # cumulative two-phase Gaussian curve. That is, a curve with two phases of \n",
    "    # Guassian like growth\n",
    "    \n",
    "    return (n * 0.5 * ((1 + sc.special.erf((x - m)/(s*2**0.5))) + (1 + sc.special.erf((x - m1)/(s1*2**0.5)))))\n",
    "    \n",
    "def gaussian3(x, n, s, m, s1, m1, s2, m2):  \n",
    "    # A function used in combination with scipy.optimize.curve_fit to find the best fit\n",
    "    # cumulative three-phase Gaussian curve. That is, a curve with three phases of \n",
    "    # Guassian like growth\n",
    "    \n",
    "    return (n * 0.5 * ((1 + sc.special.erf((x - m)/(s*2**0.5))) + (1 + sc.special.erf((x - m1)/(s1*2**0.5))) + (1 + sc.special.erf((x - m2)/(s2*2**0.5)))))\n",
    "\n",
    "def gaussian4(x, n, s, m, s1, m1, s2, m2, s3, m3):  \n",
    "    # A function used in combination with scipy.optimize.curve_fit to find the best fit\n",
    "    # cumulative three-phase Gaussian curve. That is, a curve with three phases of \n",
    "    # Guassian like growth\n",
    "    \n",
    "    return (n * 0.5 * ((1 + sc.special.erf((x - m)/(s*2**0.5))) + (1 + sc.special.erf((x - m1)/(s1*2**0.5))) + (1 + sc.special.erf((x - m2)/(s2*2**0.5))) + (1 + sc.special.erf((x - m3)/(s3*2**0.5)))))\n",
    "\n",
    "\n",
    "\n",
    "############# Finding a best fit logistic curve via numerical optimization ##############\n",
    "\n",
    "def logistic1(x, a, b, c, d):\n",
    "    # A function used in combination with scipy.optimize.curve_fit to find the best fit\n",
    "    # logistic curve.\n",
    "    \n",
    "    return  ((a / (d + np.exp(-c * x + b))))\n",
    "    \n",
    "def logistic2(x, a, b, c, d,  a1, b1, c1, d1):\n",
    "    # Same as logistic1, but allows for two periods of logistic growth\n",
    "    \n",
    "    return  ((a / (d + np.exp(-c * x + b)))   +   (a1 / (d1 + np.exp(-c1 * x + b1))))\n",
    "\n",
    "def logistic3(x, e, a, b, c, d,  a1, b1, c1, d1,  a2, b2, c2, d2):\n",
    "    # Same as logistic1, but allows for three periods of logistic growth\n",
    "    return  ((a / (d + np.exp(-c * x + b)))   +   (a1 / (d1 + np.exp(-c1 * x + b1)))   +   (a2 / (d2 + np.exp(-c2 * x + b2)))) \n",
    "\n",
    "def logistic4(x, e, a, b, c, d,  a1, b1, c1, d1,  a2, b2, c2, d2,  a3, b3, c3, d3,):\n",
    "    # Same as logistic1, but allows for three periods of logistic growth\n",
    "    return  ((a / (d + np.exp(-c * x + b)))   +   (a1 / (d1 + np.exp(-c1 * x + b1)))   +   (a2 / (d2 + np.exp(-c2 * x + b2)))  +  (a3 / (d3 + np.exp(-c3 * x + b3)))) \n",
    "\n",
    "\n",
    "\n",
    "\n",
    "######## Find a best fit sine-logistic curve (phase wave) via numerical optimization ####\n",
    "\n",
    "def phase_wave1(x,  a, b, c, d, f, g):\n",
    "    # A function used in combination with scipy.optimize.curve_fit to find the best fit\n",
    "    # sine-logistic curve. This curve captures the combined effect of logistic growth and\n",
    "    # periodic fluctuations (sine curve).\n",
    "    \n",
    "    return  (a / (d + np.exp(-c * (x + g*np.sin(f*x)) + b)))\n",
    "    \n",
    "def phase_wave2(x,  a, b, c, d, f, g,   a1, b1, c1, d1, g1, f1):\n",
    "    # Same as phase_wave1 but captures two phases of logistic growth, both characterized by\n",
    "    # periodic fluctuations.\n",
    "    \n",
    "    return  (a / (d + np.exp(-c * (x + g*np.sin(f*x)) + b))   +   a1 / (d1 + np.exp(-c1 * (x + g1*np.sin(f1*x)) + b1)))\n",
    "    \n",
    "def phase_wave3(x, a, b, c, d, f, g,   a1, b1, c1, d1, g1, f1,   a2, b2, c2, d2, g2, f2):\n",
    "    # Same as phase_wave1 but captures three phases of logistic growth, each characterized by\n",
    "    # periodic fluctuations.\n",
    "    \n",
    "    return  (a / (d + np.exp(-c * (x + g*np.sin(f*x)) + b)) + a1 / (d1 + np.exp(-c1 * (x + g1*np.sin(f1*x)) + b1)) + a2 / (d2 + np.exp(-c2 * (x + g2*np.sin(f2*x)) + b2)))\n",
    "\n",
    "def phase_wave4(x, a, b, c, d, f, g,   a1, b1, c1, d1, g1, f1,   a2, b2, c2, d2, g2, f2,   a3, b3, c3, d3, g3, f3):\n",
    "    # Same as phase_wave1 but captures three phases of logistic growth, each characterized by\n",
    "    # periodic fluctuations.\n",
    "    \n",
    "    return  (a / (d + np.exp(-c * (x + g*np.sin(f*x)) + b)) + a1 / (d1 + np.exp(-c1 * (x + g1*np.sin(f1*x)) + b1)) + a2 / (d2 + np.exp(-c2 * (x + g2*np.sin(f2*x)) + b2))  +  a3 / (d3 + np.exp(-c3 * (x + g3*np.sin(f3*x)) + b3)))\n",
    "      "
   ]
  },
  {
   "cell_type": "code",
   "execution_count": 18,
   "metadata": {
    "scrolled": true
   },
   "outputs": [],
   "source": [
    "jh_data = pd.read_csv('https://raw.githubusercontent.com/CSSEGISandData/COVID-19/master/csse_covid_19_data/csse_covid_19_time_series/time_series_covid19_confirmed_US.csv')\n",
    "il_data = jh_data.loc[jh_data.Province_State=='Illinois']\n",
    "il_data1 = il_data.set_index('Admin2').T\n",
    "il_data2 = il_data1.iloc[10:]"
   ]
  },
  {
   "cell_type": "code",
   "execution_count": 19,
   "metadata": {
    "scrolled": true
   },
   "outputs": [],
   "source": [
    "data_sum = pd.DataFrame(il_data2.sum(axis=1), columns=['cases'])\n",
    "daily_data = data_sum.diff().iloc[1:]"
   ]
  },
  {
   "cell_type": "markdown",
   "metadata": {},
   "source": [
    "### Using 4-Phase Sine-Logistic Model and Data from Past 180 Days to Obtain Cumulative Cases Forecasts for Future 10 Days"
   ]
  },
  {
   "cell_type": "code",
   "execution_count": 20,
   "metadata": {
    "scrolled": false
   },
   "outputs": [
    {
     "name": "stdout",
     "output_type": "stream",
     "text": [
      "180 observed values; 180 predicted values\n",
      "Observed vs. Predicted r2: 0.999042614121011\n",
      "10 forecasted values\n"
     ]
    }
   ],
   "source": [
    "obs_y = data_sum.cases[-180:].to_list() # A list of observed values. Using range(1000) is not the best example for fitting a cumulative Guassian fxn.\n",
    "obs_x = range(len(obs_y))\n",
    "\n",
    "ForecastDays = 10 # The number of days ahead you want to forecast\n",
    "\n",
    "# Get the optimized parameters (popt). See: https://docs.scipy.org/doc/scipy/reference/generated/scipy.optimize.curve_fit.html\n",
    "popt, pcov = curve_fit(phase_wave4, obs_x, obs_y, method='lm', maxfev=20000)\n",
    "\n",
    "# Get predicted values\n",
    "pred_y = phase_wave4(obs_x, *popt)\n",
    "\n",
    "# Get the percent of variation in the observed explained by the predicted\n",
    "# Note: the resulting coefficient of determination is for a line with slope of 1 and\n",
    "# an intercept of 0. Hence, it is mathematically possible to obtain a negative value.\n",
    "# Any negative value for the r2 variable should not be interpreted.\n",
    "r2 = obs_pred_rsquare(obs_y, pred_y)\n",
    "print(len(obs_y), 'observed values;', len(pred_y), 'predicted values')\n",
    "print('Observed vs. Predicted r2:', r2)\n",
    "\n",
    "\n",
    "# Get forecasted values\n",
    "# 1. Extend x values by number of ForecastDays\n",
    "forecasted_x = np.array(list(range(max(obs_x) + ForecastDays + 1)))\n",
    "\n",
    "# 2. Get corresponding forecasted y values, i.e., extrapolations of fitted functions\n",
    "forecasted_y = phase_wave4(forecasted_x, *popt)\n",
    "\n",
    "print(len(forecasted_y) - len(pred_y), 'forecasted values')\n",
    "\n",
    "start_date = data_sum.index[-180]\n",
    "fig, ax = plt.subplots(figsize=(9,6), dpi= 100) \n",
    "plt.plot( pd.date_range(start=start_date, periods=len(forecasted_y), freq='D'), forecasted_y, marker='', color='olive', linewidth=2, linestyle='dashed', label=\"Predicted\")\n",
    "ax.scatter( pd.date_range(start=start_date, periods=len(obs_y), freq='D'), obs_y, color='salmon', s=3, label=\"Observed\")\n",
    "\n",
    "# show legend\n",
    "plt.legend()\n",
    "plt.grid(axis='y', alpha=.3)\n",
    "plt.gca().spines[\"top\"].set_alpha(.3)\n",
    "plt.gca().spines[\"bottom\"].set_alpha(.3)\n",
    "plt.gca().spines[\"right\"].set_alpha(.3)\n",
    "plt.gca().spines[\"left\"].set_alpha(.3)\n",
    "def millions(x, pos):\n",
    "    'The two args are the value and tick position'\n",
    "    return '%1.1fM' % (x * 1e-6)\n",
    "formatter = FuncFormatter(millions)\n",
    "ax.yaxis.set_major_formatter(formatter)\n",
    "plt.legend(loc='upper left')\n",
    "ax.set_title('Cumulative Confirmed Cases in Illinois', size=14, y=1.1)\n",
    "plt.suptitle('With Reported Data from Past 180 Days and 4-Phase Sine-Logistic Model Predictions (R-squared = {:.4f})'.format(r2),fontsize=10, y=0.94)\n",
    "ax.set_xlabel('Date',size=10)\n",
    "ax.set_ylabel('Cumulative Confirmed Cases',size=10)\n",
    "fig.savefig('IL_tab_charts_cumulative_sine_logistic_last180days.png', dpi=300, bbox_inches='tight')\n",
    "plt.close(fig)"
   ]
  },
  {
   "cell_type": "markdown",
   "metadata": {},
   "source": [
    "### Using 4-Phase Sine-Logistic Model and Data Since 01/22/2020 to Obtain Cumulative Cases Forecasts for Future 30 Days"
   ]
  },
  {
   "cell_type": "code",
   "execution_count": 21,
   "metadata": {
    "scrolled": true
   },
   "outputs": [
    {
     "name": "stdout",
     "output_type": "stream",
     "text": [
      "434 observed values; 434 predicted values\n",
      "Observed vs. Predicted r2: 0.9999462588595256\n",
      "30 forecasted values\n"
     ]
    }
   ],
   "source": [
    "obs_y = data_sum.cases.to_list() # A list of observed values. Using range(1000) is not the best example for fitting a cumulative Guassian fxn.\n",
    "obs_x = range(len(obs_y))\n",
    "\n",
    "ForecastDays = 30 # The number of days ahead you want to forecast\n",
    "\n",
    "# Get the optimized parameters (popt). See: https://docs.scipy.org/doc/scipy/reference/generated/scipy.optimize.curve_fit.html\n",
    "popt, pcov = curve_fit(phase_wave4, obs_x, obs_y, method='lm', maxfev=8000)\n",
    "\n",
    "# Get predicted values\n",
    "pred_y = phase_wave4(obs_x, *popt)\n",
    "\n",
    "# Get the percent of variation in the observed explained by the predicted\n",
    "# Note: the resulting coefficient of determination is for a line with slope of 1 and\n",
    "# an intercept of 0. Hence, it is mathematically possible to obtain a negative value.\n",
    "# Any negative value for the r2 variable should not be interpreted.\n",
    "r2 = obs_pred_rsquare(obs_y, pred_y)\n",
    "print(len(obs_y), 'observed values;', len(pred_y), 'predicted values')\n",
    "print('Observed vs. Predicted r2:', r2)\n",
    "\n",
    "\n",
    "# Get forecasted values\n",
    "# 1. Extend x values by number of ForecastDays\n",
    "forecasted_x = np.array(list(range(max(obs_x) + ForecastDays + 1)))\n",
    "\n",
    "# 2. Get corresponding forecasted y values, i.e., extrapolations of fitted functions\n",
    "forecasted_y = phase_wave4(forecasted_x, *popt)\n",
    "\n",
    "print(len(forecasted_y) - len(pred_y), 'forecasted values')\n",
    "\n",
    "fig, ax = plt.subplots(figsize=(9,6), dpi= 100) \n",
    "plt.plot( pd.date_range(start='1/22/2020', periods=len(forecasted_y), freq='D'), forecasted_y, marker='', color='olive', linewidth=2, linestyle='dashed',label=\"Predicted\")\n",
    "ax.scatter( pd.date_range(start='1/22/2020', periods=len(obs_y), freq='D'), obs_y, color='salmon', s=2, label=\"Observed\")\n",
    "\n",
    "# show legend\n",
    "plt.legend()\n",
    "plt.grid(axis='y', alpha=.3)\n",
    "plt.gca().spines[\"top\"].set_alpha(.3)\n",
    "plt.gca().spines[\"bottom\"].set_alpha(.3)\n",
    "plt.gca().spines[\"right\"].set_alpha(.3)\n",
    "plt.gca().spines[\"left\"].set_alpha(.3)\n",
    "def millions(x, pos):\n",
    "    'The two args are the value and tick position'\n",
    "    return '%1.1fM' % (x * 1e-6)\n",
    "formatter = FuncFormatter(millions)\n",
    "ax.yaxis.set_major_formatter(formatter)\n",
    "ax.set_title('Cumulative Confirmed Cases in Illinois', size=14, y=1.1)\n",
    "plt.suptitle('With Reported Data Since 01/22/2020 and 4-Phase Sine-Logistic Model Predictions (R-squared = {:.4f})'.format(r2),fontsize=10, y=0.94)\n",
    "ax.set_xlabel('Date',size=10)\n",
    "ax.set_ylabel('Cumulative Confirmed Cases',size=10)\n",
    "fig.savefig('IL_tab_charts_cumulative_sine_logistic_all_data.png', dpi=300, bbox_inches='tight')\n",
    "plt.close(fig)"
   ]
  },
  {
   "cell_type": "markdown",
   "metadata": {},
   "source": [
    "### Using 4-Phase Sine-Logistic Model and Data Since 01/23/2020 to Obtain Daily New Cases Forecasts for Future 30 Days"
   ]
  },
  {
   "cell_type": "code",
   "execution_count": 22,
   "metadata": {},
   "outputs": [
    {
     "name": "stdout",
     "output_type": "stream",
     "text": [
      "433 observed values; 433 predicted values\n",
      "Observed vs. Predicted r2: 0.8999462920348885\n",
      "30 forecasted values\n"
     ]
    }
   ],
   "source": [
    "obs_y = daily_data.cases.to_list() # A list of observed values. Using range(1000) is not the best example for fitting a cumulative Guassian fxn.\n",
    "obs_x = range(len(obs_y))\n",
    "\n",
    "ForecastDays = 30 # The number of days ahead you want to forecast\n",
    "\n",
    "# Get the optimized parameters (popt). See: https://docs.scipy.org/doc/scipy/reference/generated/scipy.optimize.curve_fit.html\n",
    "popt, pcov = curve_fit(phase_wave4, obs_x, obs_y, method='lm', maxfev=50000)\n",
    "\n",
    "# Get predicted values\n",
    "pred_y = phase_wave4(obs_x, *popt)\n",
    "\n",
    "# Get the percent of variation in the observed explained by the predicted\n",
    "# Note: the resulting coefficient of determination is for a line with slope of 1 and\n",
    "# an intercept of 0. Hence, it is mathematically possible to obtain a negative value.\n",
    "# Any negative value for the r2 variable should not be interpreted.\n",
    "r2 = obs_pred_rsquare(obs_y, pred_y)\n",
    "print(len(obs_y), 'observed values;', len(pred_y), 'predicted values')\n",
    "print('Observed vs. Predicted r2:', r2)\n",
    "\n",
    "\n",
    "# Get forecasted values\n",
    "# 1. Extend x values by number of ForecastDays\n",
    "forecasted_x = np.array(list(range(max(obs_x) + ForecastDays + 1)))\n",
    "\n",
    "# 2. Get corresponding forecasted y values, i.e., extrapolations of fitted functions\n",
    "forecasted_y = phase_wave4(forecasted_x, *popt)\n",
    "\n",
    "print(len(forecasted_y) - len(pred_y), 'forecasted values')\n",
    "\n",
    "fig, ax = plt.subplots(figsize=(9,6), dpi= 100) \n",
    "plt.plot( pd.date_range(start='1/23/2020', periods=len(forecasted_y), freq='D'), forecasted_y, marker='', color='olive', linewidth=1.5,label=\"Predicted\")\n",
    "ax.scatter( pd.date_range(start='1/23/2020', periods=len(obs_y), freq='D'), obs_y, color='salmon', label=\"Observed\", s=5)\n",
    "\n",
    "\n",
    "# show legend\n",
    "plt.legend()\n",
    "plt.grid(axis='y', alpha=.3)\n",
    "plt.gca().spines[\"top\"].set_alpha(.3)\n",
    "plt.gca().spines[\"bottom\"].set_alpha(.3)\n",
    "plt.gca().spines[\"right\"].set_alpha(.3)\n",
    "plt.gca().spines[\"left\"].set_alpha(.3)\n",
    "def millions(x, pos):\n",
    "    'The two args are the value and tick position'\n",
    "    return '%1.1fM' % (x * 1e-6)\n",
    "formatter = FuncFormatter(millions)\n",
    "ax.yaxis.set_major_formatter(formatter)\n",
    "ax.set_title('Daily Confirmed Cases in Illinois', size=14, y=1.1)\n",
    "plt.suptitle('With Reported Data Since 01/23/2020 and 4-Phase Sine-Logistic Model Predictions (R-squared = {:.4f})'.format(r2),fontsize=10, y=0.94)\n",
    "ax.set_xlabel('Date',size=10)\n",
    "ax.set_ylabel('Newly Confirmed Cases',size=10)\n",
    "fig.savefig('IL_tab_charts_daily_sine_logistic.png', dpi=300, bbox_inches='tight')\n",
    "plt.close(fig)"
   ]
  },
  {
   "cell_type": "markdown",
   "metadata": {},
   "source": [
    "### Using 4-phase Logistic Model and Data from Past 180 Days to Obtain Cumulative Cases Forecasts for Future 10 Days"
   ]
  },
  {
   "cell_type": "code",
   "execution_count": 23,
   "metadata": {
    "scrolled": true
   },
   "outputs": [
    {
     "name": "stdout",
     "output_type": "stream",
     "text": [
      "180 observed values; 180 predicted values\n",
      "Observed vs. Predicted r2: 0.9999124661686011\n",
      "10 forecasted values\n"
     ]
    }
   ],
   "source": [
    "obs_y = data_sum.cases[-180:].to_list() # A list of observed values. Using range(1000) is not the best example for fitting a cumulative Guassian fxn.\n",
    "obs_x = range(len(obs_y))\n",
    "\n",
    "ForecastDays = 10 # The number of days ahead you want to forecast\n",
    "\n",
    "# Get the optimized parameters (popt). See: https://docs.scipy.org/doc/scipy/reference/generated/scipy.optimize.curve_fit.html\n",
    "popt, pcov = curve_fit(logistic4, obs_x, obs_y, method='lm', maxfev=20000)\n",
    "\n",
    "# Get predicted values\n",
    "pred_y = logistic4(obs_x, *popt)\n",
    "\n",
    "# Get the percent of variation in the observed explained by the predicted\n",
    "# Note: the resulting coefficient of determination is for a line with slope of 1 and\n",
    "# an intercept of 0. Hence, it is mathematically possible to obtain a negative value.\n",
    "# Any negative value for the r2 variable should not be interpreted.\n",
    "r2 = obs_pred_rsquare(obs_y, pred_y)\n",
    "print(len(obs_y), 'observed values;', len(pred_y), 'predicted values')\n",
    "print('Observed vs. Predicted r2:', r2)\n",
    "\n",
    "\n",
    "# Get forecasted values\n",
    "# 1. Extend x values by number of ForecastDays\n",
    "forecasted_x = np.array(list(range(max(obs_x) + ForecastDays + 1)))\n",
    "\n",
    "# 2. Get corresponding forecasted y values, i.e., extrapolations of fitted functions\n",
    "forecasted_y = logistic4(forecasted_x, *popt)\n",
    "\n",
    "print(len(forecasted_y) - len(pred_y), 'forecasted values')\n",
    "start_date = data_sum.index[-180]\n",
    "fig, ax = plt.subplots(figsize=(9,6), dpi= 100) \n",
    "plt.plot( pd.date_range(start=start_date, periods=len(forecasted_y), freq='D'), forecasted_y, marker='', color='olive', linestyle='dashed', linewidth=2, label=\"Predicted\")\n",
    "ax.scatter( pd.date_range(start=start_date, periods=len(obs_y), freq='D'), obs_y, color='salmon', s=3, label=\"Observed\")\n",
    "# show legend\n",
    "plt.legend()\n",
    "plt.grid(axis='y', alpha=.3)\n",
    "plt.gca().spines[\"top\"].set_alpha(.3)\n",
    "plt.gca().spines[\"bottom\"].set_alpha(.3)\n",
    "plt.gca().spines[\"right\"].set_alpha(.3)\n",
    "plt.gca().spines[\"left\"].set_alpha(.3)\n",
    "def millions(x, pos):\n",
    "    'The two args are the value and tick position'\n",
    "    return '%1.1fM' % (x * 1e-6)\n",
    "formatter = FuncFormatter(millions)\n",
    "ax.yaxis.set_major_formatter(formatter)\n",
    "ax.set_title('Cumulative Confirmed Cases in Illinois', size=14, y=1.1)\n",
    "plt.suptitle('With Reported Data from Past 180 Days and 4-Phase Logistic Model Predictions (R-squared = {:.4f})'.format(r2),fontsize=10, y=0.94)\n",
    "ax.set_xlabel('Date',size=10)\n",
    "ax.set_ylabel('Cumulative Confirmed Cases',size=10)\n",
    "fig.savefig('IL_tab_charts_cumulative_logistic_last180days.png', dpi=300, bbox_inches='tight')\n",
    "plt.close(fig)"
   ]
  },
  {
   "cell_type": "markdown",
   "metadata": {},
   "source": [
    "### Using 4-phase Logistic Model and Data Since 01/22/2020 to Obtain Cumulative Cases Forecasts for Future 30 Days"
   ]
  },
  {
   "cell_type": "code",
   "execution_count": 24,
   "metadata": {
    "scrolled": true
   },
   "outputs": [
    {
     "name": "stdout",
     "output_type": "stream",
     "text": [
      "434 observed values; 434 predicted values\n",
      "Observed vs. Predicted r2: 0.999754473585793\n",
      "30 forecasted values\n"
     ]
    }
   ],
   "source": [
    "obs_y = data_sum.cases.to_list() # A list of observed values. Using range(1000) is not the best example for fitting a cumulative Guassian fxn.\n",
    "obs_x = range(len(obs_y))\n",
    "\n",
    "ForecastDays = 30 # The number of days ahead you want to forecast\n",
    "\n",
    "# Get the optimized parameters (popt). See: https://docs.scipy.org/doc/scipy/reference/generated/scipy.optimize.curve_fit.html\n",
    "popt, pcov = curve_fit(logistic4, obs_x, obs_y, method='lm', maxfev=8000)\n",
    "\n",
    "# Get predicted values\n",
    "pred_y = logistic4(obs_x, *popt)\n",
    "\n",
    "# Get the percent of variation in the observed explained by the predicted\n",
    "# Note: the resulting coefficient of determination is for a line with slope of 1 and\n",
    "# an intercept of 0. Hence, it is mathematically possible to obtain a negative value.\n",
    "# Any negative value for the r2 variable should not be interpreted.\n",
    "r2 = obs_pred_rsquare(obs_y, pred_y)\n",
    "print(len(obs_y), 'observed values;', len(pred_y), 'predicted values')\n",
    "print('Observed vs. Predicted r2:', r2)\n",
    "\n",
    "\n",
    "# Get forecasted values\n",
    "# 1. Extend x values by number of ForecastDays\n",
    "forecasted_x = np.array(list(range(max(obs_x) + ForecastDays + 1)))\n",
    "\n",
    "# 2. Get corresponding forecasted y values, i.e., extrapolations of fitted functions\n",
    "forecasted_y = logistic4(forecasted_x, *popt)\n",
    "\n",
    "print(len(forecasted_y) - len(pred_y), 'forecasted values')\n",
    "\n",
    "fig, ax = plt.subplots(figsize=(9,6), dpi= 100) \n",
    "plt.plot( pd.date_range(start='1/22/2020', periods=len(forecasted_y), freq='D'), forecasted_y, marker='', color='olive', linewidth=2,linestyle='dashed', label=\"Predicted\")\n",
    "ax.scatter( pd.date_range(start='1/22/2020', periods=len(obs_y), freq='D'), obs_y, color='salmon', s=2, label=\"Observed\")\n",
    "# show legend\n",
    "plt.legend()\n",
    "plt.grid(axis='y', alpha=.3)\n",
    "plt.gca().spines[\"top\"].set_alpha(.3)\n",
    "plt.gca().spines[\"bottom\"].set_alpha(.3)\n",
    "plt.gca().spines[\"right\"].set_alpha(.3)\n",
    "plt.gca().spines[\"left\"].set_alpha(.3)\n",
    "def millions(x, pos):\n",
    "    'The two args are the value and tick position'\n",
    "    return '%1.1fM' % (x * 1e-6)\n",
    "formatter = FuncFormatter(millions)\n",
    "ax.yaxis.set_major_formatter(formatter)\n",
    "ax.set_title('Cumulative Confirmed Cases in Illinois', size=14, y=1.1)\n",
    "plt.suptitle('With Reported Data Since 01/22/2020 and 4-Phase Logistic Model Predictions (R-squared = {:.4f})'.format(r2),fontsize=10, y=0.94)\n",
    "ax.set_xlabel('Date',size=10)\n",
    "ax.set_ylabel('Cumulative Confirmed Cases',size=10)\n",
    "fig.savefig('IL_tab_charts_cumulative_logistic_all_data.png', dpi=300, bbox_inches='tight')\n",
    "plt.close(fig)"
   ]
  },
  {
   "cell_type": "markdown",
   "metadata": {},
   "source": [
    "### Using 4-Phase Logistic Model and Data Since 01/23/2020 to Obtain Daily New Cases Forecasts for Future 30 Days"
   ]
  },
  {
   "cell_type": "code",
   "execution_count": 25,
   "metadata": {},
   "outputs": [
    {
     "name": "stdout",
     "output_type": "stream",
     "text": [
      "433 observed values; 433 predicted values\n",
      "Observed vs. Predicted r2: 0.8933426848149815\n",
      "30 forecasted values\n"
     ]
    }
   ],
   "source": [
    "obs_y = daily_data.cases.to_list() # A list of observed values. Using range(1000) is not the best example for fitting a cumulative Guassian fxn.\n",
    "obs_x = range(len(obs_y))\n",
    "\n",
    "ForecastDays = 30 # The number of days ahead you want to forecast\n",
    "\n",
    "# Get the optimized parameters (popt). See: https://docs.scipy.org/doc/scipy/reference/generated/scipy.optimize.curve_fit.html\n",
    "popt, pcov = curve_fit(logistic4, obs_x, obs_y, method='lm', maxfev=50000)\n",
    "\n",
    "# Get predicted values\n",
    "pred_y = logistic4(obs_x, *popt)\n",
    "\n",
    "# Get the percent of variation in the observed explained by the predicted\n",
    "# Note: the resulting coefficient of determination is for a line with slope of 1 and\n",
    "# an intercept of 0. Hence, it is mathematically possible to obtain a negative value.\n",
    "# Any negative value for the r2 variable should not be interpreted.\n",
    "r2 = obs_pred_rsquare(obs_y, pred_y)\n",
    "print(len(obs_y), 'observed values;', len(pred_y), 'predicted values')\n",
    "print('Observed vs. Predicted r2:', r2)\n",
    "\n",
    "\n",
    "# Get forecasted values\n",
    "# 1. Extend x values by number of ForecastDays\n",
    "forecasted_x = np.array(list(range(max(obs_x) + ForecastDays + 1)))\n",
    "\n",
    "# 2. Get corresponding forecasted y values, i.e., extrapolations of fitted functions\n",
    "forecasted_y = logistic4(forecasted_x, *popt)\n",
    "\n",
    "print(len(forecasted_y) - len(pred_y), 'forecasted values')\n",
    "\n",
    "fig, ax = plt.subplots(figsize=(9,6), dpi= 100) \n",
    "plt.plot( pd.date_range(start='1/23/2020', periods=len(forecasted_y), freq='D'), forecasted_y, marker='', color='olive', linewidth=1.5,label=\"Predicted\")\n",
    "ax.scatter( pd.date_range(start='1/23/2020', periods=len(obs_y), freq='D'), obs_y, color='salmon', label=\"Observed\", s=5)\n",
    "\n",
    "\n",
    "# show legend\n",
    "plt.legend()\n",
    "plt.grid(axis='y', alpha=.3)\n",
    "plt.gca().spines[\"top\"].set_alpha(.3)\n",
    "plt.gca().spines[\"bottom\"].set_alpha(.3)\n",
    "plt.gca().spines[\"right\"].set_alpha(.3)\n",
    "plt.gca().spines[\"left\"].set_alpha(.3)\n",
    "def millions(x, pos):\n",
    "    'The two args are the value and tick position'\n",
    "    return '%1.1fM' % (x * 1e-6)\n",
    "formatter = FuncFormatter(millions)\n",
    "ax.yaxis.set_major_formatter(formatter)\n",
    "ax.set_title('Daily Confirmed Cases in Illinois', size=14, y=1.1)\n",
    "plt.suptitle('With Reported Data Since 01/23/2020 and 4-Phase Logistic Model Predictions (R-squared = {:.4f})'.format(r2),fontsize=10, y=0.94)\n",
    "ax.set_xlabel('Date',size=10)\n",
    "ax.set_ylabel('Newly Confirmed Cases',size=10)\n",
    "fig.savefig('IL_tab_charts_daily_logistic.png', dpi=300, bbox_inches='tight')\n",
    "plt.close(fig)"
   ]
  }
 ],
 "metadata": {
  "finalized": {
   "timestamp": 1616042336109,
   "trusted": true
  },
  "kernelspec": {
   "display_name": "Python 3",
   "language": "python",
   "name": "python3"
  },
  "language_info": {
   "codemirror_mode": {
    "name": "ipython",
    "version": 3
   },
   "file_extension": ".py",
   "mimetype": "text/x-python",
   "name": "python",
   "nbconvert_exporter": "python",
   "pygments_lexer": "ipython3",
   "version": "3.6.7"
  }
 },
 "nbformat": 4,
 "nbformat_minor": 2
}
