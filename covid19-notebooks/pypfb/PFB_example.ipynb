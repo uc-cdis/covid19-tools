{
 "cells": [
  {
   "cell_type": "markdown",
   "metadata": {},
   "source": [
    "# Tutorial for Using PyPFB Library to Export Data into Workspace"
   ]
  },
  {
   "cell_type": "markdown",
   "metadata": {},
   "source": [
    "We can use the PyPFB library through the Gen3 CLI or directly in python. \n",
    "\n",
    "PyPFB source and documentation: https://github.com/uc-cdis/pypfb\n",
    "\n",
    "To run any of the CLI commands from the documentation through the Gen3 CLI, simply prepend `gen3` in front of `pfb`\n",
    "\n",
    "For example \"cat tests/pfb-data/test.avro | pfb to tsv ./tsvs/\" becomes \"cat tests/pfb-data/test.avro | gen3 pfb to tsv ./tsvs/\"\n"
   ]
  },
  {
   "cell_type": "code",
   "execution_count": 9,
   "metadata": {},
   "outputs": [],
   "source": [
    "import pandas as pd\n",
    "import seaborn as sns\n",
    "import matplotlib.pyplot as plt\n",
    "from pfb import reader\n",
    "from pfb.exporters import tsv\n",
    "import pandas as pd"
   ]
  },
  {
   "cell_type": "markdown",
   "metadata": {},
   "source": [
    "## Convert PFB to tsv(s)"
   ]
  },
  {
   "cell_type": "markdown",
   "metadata": {},
   "source": [
    "Using the Gen3 CLI, we can utilize unix pipes to feed a pfb as input. "
   ]
  },
  {
   "cell_type": "code",
   "execution_count": 10,
   "metadata": {},
   "outputs": [],
   "source": [
    "# Using the Gen3 CLI\n",
    "!cat PFB_example.avro | gen3 pfb to tsv ./PFB_example_tsvs/"
   ]
  },
  {
   "cell_type": "code",
   "execution_count": null,
   "metadata": {},
   "outputs": [],
   "source": [
    "!rm -r PFB_example_tsvs"
   ]
  },
  {
   "cell_type": "code",
   "execution_count": null,
   "metadata": {},
   "outputs": [],
   "source": [
    "# OR Using PyPFB SDK\n",
    "r = reader.PFBReader(\"PFB_example.avro\")\n",
    "r = r.__enter__()\n",
    "tsv._to_tsv(r, \"PFB_example_tsvs\", {})"
   ]
  },
  {
   "cell_type": "code",
   "execution_count": 3,
   "metadata": {},
   "outputs": [],
   "source": [
    "# Read into dataframe\n",
    "df = pd.read_csv('PFB_example_tsvs/demographic.tsv', sep='\\t')"
   ]
  },
  {
   "cell_type": "code",
   "execution_count": 2,
   "metadata": {},
   "outputs": [],
   "source": [
    "df.head()"
   ]
  },
  {
   "cell_type": "code",
   "execution_count": 1,
   "metadata": {},
   "outputs": [],
   "source": [
    "df.info()"
   ]
  },
  {
   "cell_type": "code",
   "execution_count": null,
   "metadata": {},
   "outputs": [],
   "source": [
    "# Visualize some data\n",
    "plt.figure(figsize=(10,5))\n",
    "sns.countplot(x='annotated_sex', hue='race', data=df, orient='v')\n",
    "plt.xticks(\n",
    "    rotation=45, \n",
    "    horizontalalignment='right',\n",
    "    fontweight='light',\n",
    "    fontsize='x-large'  \n",
    ")"
   ]
  },
  {
   "cell_type": "code",
   "execution_count": 7,
   "metadata": {},
   "outputs": [],
   "source": [
    "# clean up\n",
    "!rm -r PFB_example_tsvs"
   ]
  },
  {
   "cell_type": "code",
   "execution_count": null,
   "metadata": {},
   "outputs": [],
   "source": []
  }
 ],
 "metadata": {
  "kernelspec": {
   "display_name": "Python 3",
   "language": "python",
   "name": "python3"
  },
  "language_info": {
   "codemirror_mode": {
    "name": "ipython",
    "version": 3
   },
   "file_extension": ".py",
   "mimetype": "text/x-python",
   "name": "python",
   "nbconvert_exporter": "python",
   "pygments_lexer": "ipython3",
   "version": "3.8.6"
  }
 },
 "nbformat": 4,
 "nbformat_minor": 4
}
