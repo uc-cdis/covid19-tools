{
 "cells": [
  {
   "cell_type": "markdown",
   "metadata": {},
   "source": [
    "# COVID-19 forecasting using SEIR models\n",
    "\n",
    "Mathematical modelling is an important component of epidemiology and infection disease research. In particular, compartmental models have been used since the early 20th century. Here, a population is divided into compartments and it is assumed that individuals in the same compartment have the same characteristics.\n",
    "\n",
    "The SIR model is a well-known and relatively simplistic compartmental model consisting of three compartments: susceptible (S), infectious (I), and recovered/deceased/immune (R; sometimes referred to as “removed” in this notebook). The SIR model has many derivations that build upon it. Our focus, the SEIR model, includes an additional compartment for people who are exposed (E) and is often used for infections with a significant incubation period where individuals have been infected but are not yet infectious to others.\n",
    "\n",
    "The variables (S, E, I, and R) represent how many (or the proportion of) people are in each compartment at a particular time. Since the SEIR model is dynamic, the numbers in each compartment may fluctuate over time and there are relationships between each of the states. For example, the number of susceptible (S) individuals falls as more individuals are exposed/infected, and the disease likely cannot break out again until a large portion of the population return to being susceptible (S). The SEIR model includes parameters which determine the rate at which individuals move from being susceptible to exposed (beta), from exposed to infected (epsilon), and from infected to recovered (gamma). Finally, SEIR models may include parameters for background mortality and birth rates, but often make the assumption that they are equal. It is important to note that any given SEIR model is based on a particular population and it may not be appropriate to use on other populations.\n",
    "\n",
    "In this notebook, we construct an SEIR model for COVID-19 in Cook County, Illinois, using data sourced from Johns Hopkins University, but available within the Chicagoland COVID-19 Commons. We then perform an optimization of initial model parameter values and do some simple validation. This notebook is intended to demonstrate real-life usage of data for epidemiological modeling and is not intended for rigorous scientific interpretation."
   ]
  },
  {
   "cell_type": "markdown",
   "metadata": {},
   "source": [
    "## Setup notebook\n",
    "\n",
    "If you need to install these libraries, uncomment and run this cell:"
   ]
  },
  {
   "cell_type": "code",
   "execution_count": null,
   "metadata": {},
   "outputs": [],
   "source": [
    "#!pip install numpy\n",
    "#!pip install matplotlib\n",
    "#!pip install pandas\n",
    "#!pip install scipy\n",
    "#!pip install gen3"
   ]
  },
  {
   "cell_type": "markdown",
   "metadata": {},
   "source": [
    "Import the necessary modules:"
   ]
  },
  {
   "cell_type": "code",
   "execution_count": null,
   "metadata": {},
   "outputs": [],
   "source": [
    "%matplotlib inline\n",
    "from datetime import datetime\n",
    "import gen3\n",
    "from gen3.auth import Gen3Auth\n",
    "from gen3.submission import Gen3Submission\n",
    "import numpy as np\n",
    "import matplotlib\n",
    "import matplotlib.pyplot as plt\n",
    "import matplotlib.ticker as ticker\n",
    "import pandas as pd\n",
    "import json\n",
    "import requests\n",
    "from matplotlib.dates import date2num, num2date\n",
    "from scipy import integrate, optimize\n",
    "import warnings\n",
    "\n",
    "warnings.filterwarnings(\"ignore\")"
   ]
  },
  {
   "cell_type": "markdown",
   "metadata": {},
   "source": [
    "## Implement SEIR model"
   ]
  },
  {
   "cell_type": "code",
   "execution_count": null,
   "metadata": {},
   "outputs": [],
   "source": [
    "from IPython.display import Image\n",
    "Image(filename='seir_diagram.png', width=400, height=400)"
   ]
  },
  {
   "cell_type": "markdown",
   "metadata": {},
   "source": [
    "    dS/dt = -βSI;   dE/dt = βSI - ϵE;   dI/dt = ϵE - γI;   dR/dt = γI;\n",
    "    \n",
    "    R0 = β/γ;\n",
    "    \n",
    "    β : average contact rate in the population;\n",
    "    ϵ : the inverse of the mean incubation period;   \n",
    "    γ : the inverse of the mean infectious period;\n",
    "\n",
    "The rate of change for each compartment in the SEIR model is given by a differential equation, as defined above. To implement the model we use these equations to compute the incremental change in value for each compartment per time step (per day, in this case). That is, starting at day 0, we go day by day and compute the increase or decrease in each compartment for the next day. What we end up with is a time-series of the relative frequency for each compartment for the duration of the outbreak."
   ]
  },
  {
   "cell_type": "code",
   "execution_count": null,
   "metadata": {},
   "outputs": [],
   "source": [
    "def base_seir_model(init_vals, params, t):\n",
    "    \"\"\"SEIR model implementation.\n",
    "    \n",
    "    Takes lists of start values, parameters, and times and runs\n",
    "    through the SEIR functions.\n",
    "    \n",
    "    Args:\n",
    "        init_vals: Population distribution at start point\n",
    "        params: change rate between status. beta: S --> E, epsilon: E --> I, gamma: I --> R\n",
    "        t: progression time\n",
    "    \n",
    "    Returns:\n",
    "        Population distribution at the end of the progression.\n",
    "    \"\"\"\n",
    "    S_0, E_0, I_0, R_0 = init_vals\n",
    "    S, E, I, R = [S_0], [E_0], [I_0], [R_0]\n",
    "    epsilon, beta, gamma = params\n",
    "    dt = t[1] - t[0]\n",
    "    for _ in t[1:]:\n",
    "        next_S = S[-1] - (beta * S[-1] * I[-1]) * dt\n",
    "        next_E = E[-1] + (beta * S[-1] * I[-1] - epsilon * E[-1]) * dt\n",
    "        next_I = I[-1] + (epsilon * E[-1] - gamma * I[-1]) * dt\n",
    "        next_R = R[-1] + (gamma * I[-1]) * dt\n",
    "        S.append(next_S)\n",
    "        E.append(next_E)\n",
    "        I.append(next_I)\n",
    "        R.append(next_R)\n",
    "    return np.stack([S, E, I, R]).T"
   ]
  },
  {
   "cell_type": "markdown",
   "metadata": {},
   "source": [
    "To run a simulation using the model we assign values to each of the model parameters, specify a set of initial conditions, and run the function. Parameters for the SEIR model define the rates of transition between compartments. The initial conditions which must be specified are the fixed population size, number of time steps to simulate, and relative frequency of each compartment at time step 0."
   ]
  },
  {
   "cell_type": "markdown",
   "metadata": {},
   "source": [
    "### Set up initial state and parameters, run simulation\n",
    "\n",
    "For an initial run of the model we use parameter values as estimated in [Hellewell et al. 2020](https://www.medrxiv.org/content/10.1101/2020.02.08.20021162v1) (Incubation  = 5 days, ϵ = 0.2, R0 = 3.5) and initial conditions as follows: population size 5,180,493 (Cook County population 2020), time window 200 days, and initial counts of 10 exposed, 1 infectious, and the remainder of the population are susceptible, implying 0 removed. To derive β, we used γ = 0.5, therefore β = R0 * γ = 1.75"
   ]
  },
  {
   "cell_type": "code",
   "execution_count": null,
   "metadata": {},
   "outputs": [],
   "source": [
    "# Set up initial state\n",
    "N = 5180493\n",
    "S_0 = (N - 11) / N\n",
    "E_0 = 10 / N\n",
    "I_0 = 1 / N\n",
    "R_0 = 0\n",
    "init_vals = [S_0, E_0, I_0, R_0]\n",
    "\n",
    "# Parameter reported by researchers\n",
    "epsilon, beta, gamma = [0.2, 1.75, 0.5]\n",
    "params = epsilon, beta, gamma\n",
    "\n",
    "# define time interval\n",
    "t_max = 1000\n",
    "dt = 1\n",
    "t = np.linspace(0, t_max, int(t_max / dt) + 1)\n",
    "\n",
    "# Run simulation\n",
    "results = base_seir_model(init_vals, params, t)"
   ]
  },
  {
   "cell_type": "markdown",
   "metadata": {},
   "source": [
    "#### Visualize COVID-19 progression\n",
    "\n",
    "The function defined below is used to plot the results from the SEIR model."
   ]
  },
  {
   "cell_type": "code",
   "execution_count": null,
   "metadata": {},
   "outputs": [],
   "source": [
    "def plot_modeled(\n",
    "    simulated_susceptible, simulated_exposure, simulated_infectious, simulated_remove\n",
    "):\n",
    "    \"\"\"Helper function for plotting the results from the SEIR model.\n",
    "    \n",
    "    Args:\n",
    "        simulated_susceptible: Predicted values for S\n",
    "        simulated_exposure: Predicted values for E\n",
    "        simulated_infectious: Predicted values for I\n",
    "        simulated_remove: Predicted values for R\n",
    "    \"\"\"\n",
    "    global times, numTimes\n",
    "    startInd = 0\n",
    "    numTimes = len(simulated_infectious)\n",
    "\n",
    "    fig = plt.figure(figsize=[22, 12], dpi=120)\n",
    "    fig.subplots_adjust(top=0.85, right=0.92)\n",
    "    ind = np.arange(numTimes)\n",
    "    indObs = np.arange(len(simulated_infectious))\n",
    "\n",
    "    ax = fig.add_subplot(111)\n",
    "    ax.yaxis.grid(True, color=\"black\", linestyle=\"dashed\")\n",
    "    ax.xaxis.grid(True, color=\"black\", linestyle=\"dashed\")\n",
    "    ax.set_axisbelow(True)\n",
    "    fig.autofmt_xdate()\n",
    "\n",
    "    (infectedp,) = ax.plot(indObs, simulated_infectious, linewidth=3, color=\"black\")\n",
    "    (sp,) = ax.plot(ind, simulated_susceptible, linewidth=3, color=\"red\")\n",
    "    (ep,) = ax.plot(ind, simulated_exposure, linewidth=3, color=\"purple\")\n",
    "    (ip,) = ax.plot(ind, simulated_infectious, linewidth=3, color=\"blue\")\n",
    "    (rp,) = ax.plot(ind, simulated_remove, linewidth=3, color=\"orange\")\n",
    "    ax.set_xlim(0, numTimes)\n",
    "    ax.set_xlabel(\"Days\")\n",
    "    ax.set_ylabel(\"Population Fraction\")\n",
    "\n",
    "    plt.legend(\n",
    "        [sp, ep, ip, rp],\n",
    "        [\n",
    "            \"Simulated Susceptible\",\n",
    "            \"Simulated Exposed\",\n",
    "            \"Simulated Infectious\",\n",
    "            \"Simulated Removed\",\n",
    "        ],\n",
    "        loc=\"upper right\",\n",
    "        bbox_to_anchor=(1, 1.22),\n",
    "        fancybox=True,\n",
    "    )\n",
    "    \n",
    "plot_modeled(results[:200, 0], results[:200, 1], results[:200, 2], results[:200, 3])"
   ]
  },
  {
   "cell_type": "markdown",
   "metadata": {},
   "source": [
    "Here we’ve plotted the relative frequency of each compartment over time. Starting at day 1 we can see that essentially the entire population is susceptible and a very small portion are exposed, infectious, or removed. Tracing the curves to the right we see a sharp drop in the susceptible curve with corresponding peaks in the exposed and infectious curves and sharp rise in the removed curve. As we move beyond the peak of the infectious curve we find that the compartments quickly stabilize to their long-run values. The outbreak comes to a close as the exposed and infectious curves approach zero. We observe that by the end of the outbreak the vast majority of the population will have become infected and subsequently passed through to the removed compartment (the removed curve stabilizes close to 1). In turn, in this simulation only a small portion of the population avoided infection (the susceptible curve stabilizes close to 0)."
   ]
  },
  {
   "cell_type": "markdown",
   "metadata": {},
   "source": [
    "## Comparing Simulation Results Against Real Data\n",
    "\n",
    "Due to lack of widespread testing it’s understood that there are many cases which do not get detected and therefore are not reflected in the reported case counts data. In particular, mild and asymptomatic cases are not being detected. While it is currently unknown what percentage of infections end up as mild or asymptomatic, that figure has been estimated (see papers referenced in [this article](https://www.nature.com/articles/d41586-020-00822-x)) to be as high as 40-50%. This means that any dataset can only at best offer a highly incomplete picture of the whole situation. In spite of this fact, validating simulation results from the model against real data is the only way to determine whether or not the model faithfully represents the actual outbreak. \n",
    "\n",
    "Although we cannot truly validate the model using an incomplete dataset, it is still valuable to compare simulation results against real data. Using confirmed case counts data for Cook County from the JHU COVID-19 dataset, we compare the simulated infection rate against the observed infection rate. It is important to note that true parameter values for the model vary by population - that is, parameter values used to model the Wuhan outbreak need not be the same as the parameter values used to model the New York City outbreak. Note that in this initial simulation we used parameter values which were not estimated from the Cook County population - accordingly, we expect to see deviations between the observed data and simulation results.\n",
    "\n",
    "### Setup data"
   ]
  },
  {
   "cell_type": "code",
   "execution_count": null,
   "metadata": {},
   "outputs": [],
   "source": [
    "# Fetch US data from NYTimes\n",
    "url = 'https://raw.githubusercontent.com/nytimes/covid-19-data/master/us-counties.csv'\n",
    "df = pd.read_csv(url, parse_dates=['date'], dtype={'fips': str})\n",
    "\n",
    "# Reduce to just Cook County, IL data from March, 2020 onwards\n",
    "df = df[(df.fips == \"17031\") & (df.date >= \"2020-03-01\")]"
   ]
  },
  {
   "cell_type": "markdown",
   "metadata": {},
   "source": [
    "### Define comparison functions"
   ]
  },
  {
   "cell_type": "code",
   "execution_count": null,
   "metadata": {},
   "outputs": [],
   "source": [
    "def format_date(x, pos=None):\n",
    "    \"\"\"Helper funtion to format dates.\n",
    "    \n",
    "    Args:\n",
    "        x: number of days since 0001-01-01 00:00:00 UTC, plus one.\n",
    "    \n",
    "    Kwargs:\n",
    "        pos: time zone\n",
    "    \n",
    "    Returns:\n",
    "        Dates are returned\n",
    "    \"\"\"\n",
    "    thisind = np.clip(int(startInd + x + 0.5), startInd, startInd + numTimes - 1)\n",
    "    return num2date(times[thisind]).strftime(\"%m/%d/%Y\")\n",
    "\n",
    "\n",
    "def validate_modeled(simulated_cases, cases):\n",
    "    \"\"\"Generates a plot of observed and predicted infected\n",
    "    cases from the SEIR model.\n",
    "        \n",
    "    Args:\n",
    "        simulated_infection: Predicted counts of infected cases.\n",
    "        infection: Observed infection case counts.\n",
    "    \"\"\"\n",
    "    global times, numTimes\n",
    "    startInd = 0\n",
    "    times = [date2num(s) for (s) in df.date]\n",
    "    numTimes = len(simulated_cases)\n",
    "\n",
    "    fig = plt.figure(figsize=[22, 12], dpi=120)\n",
    "    fig.subplots_adjust(top=0.85, right=0.92)\n",
    "    ind = np.arange(numTimes)\n",
    "    indObs = np.arange(len(simulated_cases))\n",
    "\n",
    "    ax = fig.add_subplot(111)\n",
    "    ax.yaxis.grid(True, color=\"black\", linestyle=\"dashed\")\n",
    "    ax.xaxis.grid(True, color=\"black\", linestyle=\"dashed\")\n",
    "    ax.set_axisbelow(True)\n",
    "    ax.xaxis.set_major_formatter(ticker.FuncFormatter(format_date))\n",
    "    fig.autofmt_xdate()\n",
    "\n",
    "    (infectedp,) = ax.plot(indObs, simulated_cases, linewidth=3, color=\"black\")\n",
    "    (si,) = ax.plot(ind, simulated_cases, linewidth=3, color=\"orange\")\n",
    "    (i,) = ax.plot(ind, cases, linewidth=3, color=\"blue\")\n",
    "    ax.set_xlim(0, numTimes)\n",
    "    ax.set_xlabel(\"Date\")\n",
    "    ax.set_ylabel(\"Population Fraction\")\n",
    "\n",
    "    plt.legend(\n",
    "        [si, i],\n",
    "        [\"Simulated Cases\", \"Observed Cases\"],\n",
    "        loc=\"upper right\",\n",
    "        bbox_to_anchor=(1, 1.22),\n",
    "        fancybox=True,\n",
    "    )"
   ]
  },
  {
   "cell_type": "markdown",
   "metadata": {},
   "source": [
    "### Visualize comparison "
   ]
  },
  {
   "cell_type": "code",
   "execution_count": null,
   "metadata": {},
   "outputs": [],
   "source": [
    "days = len(df.cases)\n",
    "startInd = 0\n",
    "cases = results[:days, 1] + results[:days, 2]\n",
    "validate_modeled((results[:days, 1] + results[:days, 2]) , (df.cases / N - df.deaths/N))"
   ]
  },
  {
   "cell_type": "markdown",
   "metadata": {},
   "source": [
    "As expected, the simulated case counts do not align well with the reported case counts for Cook County. To improve the accuracy of our forecast, we will estimate parameter values for the model using reported case, death and recovered counts from the Cook County dataset. With the understanding that we are working with an incomplete and rapidly evolving dataset, and therefore that parameter values for the model are difficult to accurately estimate, we still expect to see deviations between the observed data and simulation results.\n",
    "\n",
    "## Parameter Optimization\n",
    "\n",
    "The optimization algorithm evaluates the simulated data using published parameter as the start point, calculates the difference between simulated data and observed data from Cook County, and updates the parameters to minimize the difference using the `L-BFGS-B` method iteratively. We set the maximum iteration as `1e7` and the convergence as `1e-8`."
   ]
  },
  {
   "cell_type": "code",
   "execution_count": null,
   "metadata": {},
   "outputs": [],
   "source": [
    "class OptimizeParameters(object):\n",
    "    \"\"\"Handles the optimization of parameters for the SEIR model\"\"\"\n",
    "    def __init__(self, init_vals, confirmed):\n",
    "        \"\"\"Initialize the parameter optimization class.\n",
    "        \n",
    "        Args:\n",
    "            init_vals: Population distribution at start point.\n",
    "            confirmed: Reported confirmed cases in Cook County.\n",
    "        \"\"\"\n",
    "        self.init_vals = init_vals\n",
    "        self.confirmed = confirmed\n",
    "\n",
    "    def evaluate(self, params):\n",
    "        \"\"\"Method to evaluate the model given a set of parameters.\n",
    "        \n",
    "        Args:\n",
    "            params: Epsilon, beta, gamma values..\n",
    "        \n",
    "        Returns:\n",
    "            Lists of predicted values for E and I.\n",
    "        \"\"\"\n",
    "        S_0, E_0, I_0, R_0 = self.init_vals\n",
    "        S, E, I, R = [S_0], [E_0], [I_0], [R_0]\n",
    "        epsilon, beta, gamma = params\n",
    "        dt = 1\n",
    "        for _ in range(len(self.confirmed) - 1):\n",
    "            next_S = S[-1] - (beta * S[-1] * I[-1]) * dt\n",
    "            next_E = E[-1] + (beta * S[-1] * I[-1] - epsilon * E[-1]) * dt\n",
    "            next_I = I[-1] + (epsilon * E[-1] - gamma * I[-1]) * dt\n",
    "            next_R = R[-1] + (gamma * I[-1]) * dt\n",
    "            S.append(next_S)\n",
    "            E.append(next_E)\n",
    "            I.append(next_I)\n",
    "            R.append(next_R)\n",
    "        return E, I\n",
    "\n",
    "    def error(self, params):\n",
    "        \"\"\"Estimates error.\n",
    "        \n",
    "        Args:\n",
    "            params: Epsilon, beta, gamma values.\n",
    "        \n",
    "        Returns:\n",
    "            Sum of squared residuals between simulated and observed cases, deaths plus recovered.\n",
    "        \"\"\"\n",
    "        yEim, yIim = self.evaluate(params)\n",
    "        yCim = [sum(i) for i in zip(yEim, yIim)]  \n",
    "        res = sum(\n",
    "              np.subtract(yCim, self.confirmed) ** 2\n",
    "        )\n",
    "        return res\n",
    "\n",
    "\n",
    "    def optimize(self, params):\n",
    "        \"\"\"Perform optimization via minimization.\n",
    "\n",
    "        Args:\n",
    "            params: Epsilon, beta, gamma values.\n",
    "\n",
    "        Returns:\n",
    "            Optimized values of parameters.\n",
    "        \"\"\"\n",
    "        res = optimize.minimize(\n",
    "            self.error,\n",
    "            params,\n",
    "            method = \"L-BFGS-B\",\n",
    "            bounds = [(0.01, 20.0), (0.01, 20.0), (0.01, 20.0)],\n",
    "            options = {\"xtol\": 1e-8, \"disp\": True, \"ftol\": 1e-7, \"maxiter\": 1e8},\n",
    "        )\n",
    "        return res"
   ]
  },
  {
   "cell_type": "markdown",
   "metadata": {},
   "source": [
    "### Run optimization"
   ]
  },
  {
   "cell_type": "markdown",
   "metadata": {},
   "source": [
    "Confirmed COVID-19 cases underrepresents the COVID-19 infected population due to the lack of testing capacity. Anbibody test preliminary result from LA suggested that infected cases is between 221000 and 442000 with margin error while the confirmed cases is 13816. We postulated the testing capacity in Illinois is comparable to LA. Therefore, we calculated the infected cases by multiply confirmed cases with the ratio of 221000/13816 or 442000/13816. "
   ]
  },
  {
   "cell_type": "code",
   "execution_count": null,
   "metadata": {},
   "outputs": [],
   "source": [
    "# Set up population distribution in initial state\n",
    "min_ratio = 221000/13816\n",
    "max_ratio = 442000/13816\n",
    "infected_cases = df.cases / N - df.deaths / N\n",
    "\n",
    "# Instantiate the class\n",
    "min_seir_eval = OptimizeParameters(init_vals, infected_cases * min_ratio)\n",
    "max_seir_eval = OptimizeParameters(init_vals, infected_cases * max_ratio)\n",
    "\n",
    "# Run optimiza function\n",
    "min_opt_p = min_seir_eval.optimize(params)\n",
    "max_opt_p = max_seir_eval.optimize(params)"
   ]
  },
  {
   "cell_type": "markdown",
   "metadata": {},
   "source": [
    "### Compare optimized SEIR model against real data"
   ]
  },
  {
   "cell_type": "code",
   "execution_count": null,
   "metadata": {},
   "outputs": [],
   "source": [
    "min_results = base_seir_model(init_vals, min_opt_p.x, t)\n",
    "max_results = base_seir_model(init_vals, max_opt_p.x, t)\n",
    "\n",
    "min_simulated_cases = (min_results[:days,1] + min_results[:days,2]) * N/min_ratio\n",
    "min_simulated_cases = [int(x) for x in min_simulated_cases]\n",
    "\n",
    "max_simulated_cases = (max_results[:days,1] + max_results[:days,2]) * N/max_ratio\n",
    "max_simulated_cases = [int(x) for x in max_simulated_cases]\n",
    "\n",
    "avg_simulated_cases = [sum(i)/(2*N) for i in zip(min_simulated_cases, max_simulated_cases)]\n",
    "\n",
    "validate_modeled(avg_simulated_cases, df.cases / N - df.deaths / N)"
   ]
  },
  {
   "cell_type": "markdown",
   "metadata": {},
   "source": [
    "Using the optimized parameters, the simulated infected case counts (exposed + infectious) were generated. We then compare the simulated infection rate against the observed infection rate. There is a clear improvement in how well the predicted infected case proportions reflect the true infected case proportions."
   ]
  },
  {
   "cell_type": "markdown",
   "metadata": {},
   "source": [
    "### Run simulation with optimized parameters"
   ]
  },
  {
   "cell_type": "code",
   "execution_count": null,
   "metadata": {},
   "outputs": [],
   "source": [
    "# Run simulation\n",
    "results = base_seir_model(init_vals, params, t)\n",
    "#print(\"Predicted maximum confirmed cases:%s\" % str(int(max(results[:, 2]) * N)))\n",
    "plot_modeled(results[:200, 0], results[:200, 1], results[:200, 2], results[:200, 3])"
   ]
  },
  {
   "cell_type": "markdown",
   "metadata": {},
   "source": [
    "Finally, we plot the relative frequency of each SEIR compartment over time when using the optimized parameters.\n",
    "\n",
    "## Conclusion\n",
    "\n",
    "This notebook showcases a relatively simplistic use of data in the Chicagoland COVID-19 Commons to build an optimized SEIR model. As the COVID-19 pandemic is an on-going event, these data are regularly updated. Fortunately, this notebook can simply be re-run and will automatically use the most up-to-date datasets."
   ]
  }
 ],
 "metadata": {
  "kernelspec": {
   "display_name": "Python 3",
   "language": "python",
   "name": "python3"
  },
  "language_info": {
   "codemirror_mode": {
    "name": "ipython",
    "version": 3
   },
   "file_extension": ".py",
   "mimetype": "text/x-python",
   "name": "python",
   "nbconvert_exporter": "python",
   "pygments_lexer": "ipython3",
   "version": "3.7.6"
  }
 },
 "nbformat": 4,
 "nbformat_minor": 4
}
