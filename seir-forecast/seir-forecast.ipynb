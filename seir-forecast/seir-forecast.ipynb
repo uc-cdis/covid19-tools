{
 "cells": [
  {
   "cell_type": "markdown",
   "metadata": {},
   "source": [
    "## Construct SEIR model"
   ],
   "execution_count": null,
   "outputs": []
  },
  {
   "cell_type": "markdown",
   "metadata": {},
   "source": [
    "## Setup notebook\n",
    "\n",
    "If you need to install these libraries, uncomment and run this cell:"
   ],
   "execution_count": null,
   "outputs": []
  },
  {
   "cell_type": "code",
   "execution_count": null,
   "metadata": {},
   "outputs": [],
   "source": [
    "#!pip install numpy\n",
    "#!pip install matplotlib\n",
    "#!pip install pandas\n",
    "#!pip install scipy"
   ]
  },
  {
   "cell_type": "markdown",
   "metadata": {},
   "source": [
    "Import the necessary modules:"
   ],
   "execution_count": null,
   "outputs": []
  },
  {
   "cell_type": "code",
   "execution_count": null,
   "metadata": {},
   "outputs": [],
   "source": [
    "%matplotlib inline\n",
    "from datetime import datetime\n",
    "import numpy as np\n",
    "import matplotlib\n",
    "import matplotlib.pyplot as plt\n",
    "import matplotlib.ticker as ticker\n",
    "import pandas as pd\n",
    "from matplotlib.dates import date2num, num2date\n",
    "from scipy import integrate, optimize\n",
    "import warnings\n",
    "\n",
    "warnings.filterwarnings(\"ignore\")"
   ]
  },
  {
   "cell_type": "markdown",
   "metadata": {},
   "source": [
    "## Setup data"
   ],
   "execution_count": null,
   "outputs": []
  },
  {
   "cell_type": "code",
   "execution_count": null,
   "metadata": {},
   "outputs": [],
   "source": [
    "# Cook County population in 2020 is 5,180,493\n",
    "# New York Times data\n",
    "url = \"https://raw.githubusercontent.com/nytimes/covid-19-data/master/us-counties.csv\"\n",
    "df = pd.read_csv(url, parse_dates=[\"date\"], dtype={\"fips\": str})\n",
    "df = df[(df.fips == \"17031\") & (df.cases != 0) & (df.date >= \"2020-02-27\")]"
   ]
  },
  {
   "cell_type": "markdown",
   "metadata": {},
   "source": [
    "## Construct SEIR model"
   ],
   "execution_count": null,
   "outputs": []
  },
  {
   "cell_type": "code",
   "execution_count": null,
   "metadata": {},
   "outputs": [],
   "source": [
    "def base_seir_model(init_vals, params, t):\n",
    "    \"\"\"SEIR model implementation.\n",
    "    \n",
    "    Takes lists of start values, parameters, and times and runs\n",
    "    through the SEIR functions.\n",
    "    \n",
    "    Args:\n",
    "        init_vals: Population distribution at start point in each of the four status\n",
    "        params: change rate between status. beta: S --> E, epsilon: E --> I, gamma: I --> R\n",
    "        t: progression timeline\n",
    "    \n",
    "    Returns:\n",
    "        Population distribution at the end of the progression.\n",
    "    \"\"\"\n",
    "    S_0, E_0, I_0, R_0 = init_vals\n",
    "    S, E, I, R = [S_0], [E_0], [I_0], [R_0]\n",
    "    epsilon, beta, gamma = params\n",
    "    dt = t[1] - t[0]\n",
    "    for _ in t[1:]:\n",
    "        next_S = S[-1] - (beta * S[-1] * I[-1]) * dt\n",
    "        next_E = E[-1] + (beta * S[-1] * I[-1] - epsilon * E[-1]) * dt\n",
    "        next_I = I[-1] + (epsilon * E[-1] - gamma * I[-1]) * dt\n",
    "        next_R = R[-1] + (gamma * I[-1]) * dt\n",
    "        S.append(next_S)\n",
    "        E.append(next_E)\n",
    "        I.append(next_I)\n",
    "        R.append(next_R)\n",
    "    return np.stack([S, E, I, R]).T"
   ]
  },
  {
   "cell_type": "markdown",
   "metadata": {},
   "source": [
    "## Parameter Optimization\n",
    "\n",
    "We optimized parameters using reported cases and reported deaths in cook county."
   ],
   "execution_count": null,
   "outputs": []
  },
  {
   "cell_type": "code",
   "execution_count": null,
   "metadata": {},
   "outputs": [],
   "source": [
    "class OptimizeParameters(object):\n",
    "    \"\"\"Handles the optimization of parameters for the SEIR model\"\"\"\n",
    "    def __init__(self, init_vals, cases, deaths):\n",
    "        \"\"\"Initialize the parameter optimization class.\n",
    "        \n",
    "        Args:\n",
    "            init_vals: Population distribution at start point.\n",
    "            cases: Reported cases in Cook County.\n",
    "            deaths: Describe.\n",
    "        \"\"\"\n",
    "        self.init_vals = init_vals\n",
    "        self.cases = cases\n",
    "        self.deaths = deaths\n",
    "\n",
    "    def evaluate(self, params):\n",
    "        \"\"\"Describe what's happening here.\n",
    "        \n",
    "        Args:\n",
    "            params: Define.\n",
    "        \n",
    "        Returns:\n",
    "            Describe what is returned.\n",
    "        \"\"\"\n",
    "        S_0, E_0, I_0, R_0 = self.init_vals\n",
    "        S, E, I, R = [S_0], [E_0], [I_0], [R_0]\n",
    "        epsilon, beta, gamma = params\n",
    "        dt = 1\n",
    "        for _ in range(len(self.cases) - 1):\n",
    "            next_S = S[-1] - (beta * S[-1] * I[-1]) * dt\n",
    "            next_E = E[-1] + (beta * S[-1] * I[-1] - epsilon * E[-1]) * dt\n",
    "            next_I = I[-1] + (epsilon * E[-1] - gamma * I[-1]) * dt\n",
    "            next_R = R[-1] + (gamma * I[-1]) * dt\n",
    "            S.append(next_S)\n",
    "            E.append(next_E)\n",
    "            I.append(next_I)\n",
    "            R.append(next_R)\n",
    "        return E, I, R\n",
    "\n",
    "    def error(self, params):\n",
    "        \"\"\"Describe what's happening here.\n",
    "        \n",
    "        Args:\n",
    "            params: Define.\n",
    "        \n",
    "        Returns:\n",
    "            Describe what is returned.\n",
    "        \"\"\"\n",
    "        yEim, yIim, yRim = self.evaluate(params)\n",
    "        yCim = [sum(i) for i in zip(yEim, yIim)]  \n",
    "        res = sum(\n",
    "             1 * np.subtract(yCim, self.cases) ** 2\n",
    "            + np.subtract(yRim, self.deaths) ** 2\n",
    "        )\n",
    "        return res\n",
    "\n",
    "    def optimize(self, params):\n",
    "        \"\"\"Describe what's happening here.\n",
    "        \n",
    "        Args:\n",
    "            params: Define.\n",
    "        \n",
    "        Returns:\n",
    "            Describe what is returned.\n",
    "        \"\"\"\n",
    "        res = optimize.minimize(\n",
    "            self.error,\n",
    "            params,\n",
    "            method = \"L-BFGS-B\",\n",
    "            bounds = [(0.0, 20.0), (0.0, 20.0), (0.0, 20.0)],\n",
    "            options = {\"xtol\": 1e-8, \"disp\": True, \"ftol\": 1e-8, \"maxiter\": 1e7},\n",
    "        )\n",
    "        return res"
   ]
  },
  {
   "cell_type": "markdown",
   "metadata": {},
   "source": [
    "## Run optimization"
   ],
   "execution_count": null,
   "outputs": []
  },
  {
   "cell_type": "code",
   "execution_count": null,
   "metadata": {},
   "outputs": [],
   "source": [
    "# Set up population distribution in initial state\n",
    "N = 5180493\n",
    "S_0 = (N - 11) / N\n",
    "E_0 = 10 / N\n",
    "I_0 = 1 / N\n",
    "R_0 = 0\n",
    "init_vals = [S_0, E_0, I_0, R_0]\n",
    "\n",
    "# Parameter reported by researchers\n",
    "epsilon, beta, gamma = [0.2, 1.75, 0.5]\n",
    "params = epsilon, beta, gamma\n",
    "\n",
    "# Instantiate the class\n",
    "seir_eval = OptimizeParameters(init_vals, df.cases / N, df.deaths / N)\n",
    "\n",
    "# Run optimiza function\n",
    "opt_p = seir_eval.optimize(params)"
   ]
  },
  {
   "cell_type": "markdown",
   "metadata": {},
   "source": [
    "## Run simulation using optimized parameters"
   ],
   "execution_count": null,
   "outputs": []
  },
  {
   "cell_type": "code",
   "execution_count": null,
   "metadata": {},
   "outputs": [],
   "source": [
    "# define time interval\n",
    "t_max = 200\n",
    "dt = 1\n",
    "t = np.linspace(0, t_max, int(t_max / dt) + 1)\n",
    "days = len(df.cases) + 14\n",
    "\n",
    "results = base_seir_model(init_vals, opt_p.x, t)\n",
    "\n",
    "simulated_cases = results[:days,1] + results[:days,2]\n",
    "observed_cases = df.cases/N\n",
    "\n",
    "times = [date2num(s) for (s) in df.date]\n",
    "obs_dates = list(map(lambda x: num2date(x) , times)) \n",
    "extra_times=np.linspace(times[-1]+1.0,times[-1] + 14.0,14)\n",
    "times.extend(extra_times)\n",
    "sim_dates = list(map(lambda x: num2date(x) , times)) \n",
    "\n",
    "obs = pd.DataFrame({\"observed_cases\":observed_cases,\"date\":obs_dates})\n",
    "sim = pd.DataFrame({\"simulated_cases\":simulated_cases,\"date\":sim_dates})\n",
    "\n",
    "sim.to_csv(\"simulated_cases.txt\",index=False,sep = '\\t')\n",
    "obs.to_csv(\"observed_cases.txt\",index=False,sep = '\\t')"
   ]
  },
  {
   "cell_type": "markdown",
   "metadata": {},
   "source": [
    "## Visualize simulated cases vs reported cases"
   ],
   "execution_count": null,
   "outputs": []
  },
  {
   "cell_type": "code",
   "execution_count": null,
   "metadata": {},
   "outputs": [],
   "source": [
    "def format_date(x, pos=None):\n",
    "    \"\"\"Helper funtion to format dates.\n",
    "    \n",
    "    Args:\n",
    "        x: number of days since 0001-01-01 00:00:00 UTC, plus one.\n",
    "    \n",
    "    Kwargs:\n",
    "        pos: time zone\n",
    "    \n",
    "    Returns:\n",
    "        Dates are returned\n",
    "    \"\"\"\n",
    "    thisind = np.clip(int(startInd + x + 0.5), startInd, startInd + numTimes - 1)\n",
    "    return num2date(times[thisind]).strftime(\"%m/%d/%Y\")\n",
    "\n",
    "\n",
    "def validate_modeled(simulated_cases, cases):\n",
    "    \"\"\"Validates the SEIR model.\n",
    "    \n",
    "    Put more description of what's happening here.\n",
    "    \n",
    "    Args:\n",
    "        simulated_infection: Describe\n",
    "        infection: Describe\n",
    "    \n",
    "    Returns:\n",
    "        Describe what is returned.\n",
    "    \"\"\"\n",
    "    global times, numTimes\n",
    "    startInd = 0\n",
    "    times = [date2num(s) for (s) in df.date]\n",
    "    times.extend(np.linspace(times[-1]+1.0,times[-1] + 14.0,14))\n",
    "    \n",
    "    numTimes = len(simulated_cases)\n",
    "\n",
    "    fig = plt.figure(figsize=[22, 12], dpi=120)\n",
    "    fig.subplots_adjust(top=0.85, right=0.92)\n",
    "    ind1 = np.arange(numTimes)\n",
    "    ind2 = np.arange(numTimes-14)\n",
    "    indObs = np.arange(len(simulated_cases))\n",
    "\n",
    "    ax = fig.add_subplot(111)\n",
    "    ax.yaxis.grid(True, color=\"black\", linestyle=\"dashed\")\n",
    "    ax.xaxis.grid(True, color=\"black\", linestyle=\"dashed\")\n",
    "    ax.set_axisbelow(True)\n",
    "    ax.xaxis.set_major_formatter(ticker.FuncFormatter(format_date))\n",
    "    fig.autofmt_xdate()\n",
    "\n",
    "    (infectedp,) = ax.plot(indObs, simulated_cases, linewidth=3, color=\"black\")\n",
    "    (si,) = ax.plot(ind1, simulated_cases, linewidth=3, color=\"orange\")\n",
    "    (i,) = ax.plot(ind2, cases, linewidth=3, color=\"blue\")\n",
    "    ax.set_xlim(0, numTimes)\n",
    "    ax.set_xlabel(\"Date\")\n",
    "    ax.set_ylabel(\"Population Fraction\")\n",
    "\n",
    "    plt.legend(\n",
    "        [si,i],\n",
    "        [\"Simulated Cases\",\"Observed Cases\"],\n",
    "        loc=\"upper right\",\n",
    "        bbox_to_anchor=(1, 1.22),\n",
    "        fancybox=True,\n",
    "    )"
   ]
  },
  {
   "cell_type": "code",
   "execution_count": null,
   "metadata": {
    "pycharm": {
     "name": "#%%\n"
    }
   },
   "outputs": [],
   "source": [
    "# startInd = 0\n",
    "# simulation = pd.read_csv('simulated_cases.txt', sep=\"\\t\")\n",
    "# simulated_cases = simulation['Exposure'] + simulation['Infectious']\n",
    "# validate_modeled(simulated_cases, df.cases / N)"
   ]
  }
 ],
 "metadata": {
  "kernelspec": {
   "display_name": "Python 3",
   "language": "python",
   "name": "python3"
  },
  "language_info": {
   "codemirror_mode": {
    "name": "ipython",
    "version": 3
   },
   "file_extension": ".py",
   "mimetype": "text/x-python",
   "name": "python",
   "nbconvert_exporter": "python",
   "pygments_lexer": "ipython3",
   "version": "3.8.1-final"
  }
 },
 "nbformat": 4,
 "nbformat_minor": 2
}